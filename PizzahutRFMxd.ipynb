{
 "cells": [
  {
   "cell_type": "code",
   "execution_count": 1,
   "metadata": {},
   "outputs": [],
   "source": [
    "import pandas as pd\n",
    "from datetime import datetime\n",
    "\n"
   ]
  },
  {
   "cell_type": "code",
   "execution_count": 2,
   "metadata": {},
   "outputs": [
    {
     "name": "stderr",
     "output_type": "stream",
     "text": [
      "<>:1: SyntaxWarning: invalid escape sequence '\\D'\n",
      "<>:1: SyntaxWarning: invalid escape sequence '\\D'\n",
      "C:\\Users\\Bonnort\\AppData\\Local\\Temp\\ipykernel_31452\\770315825.py:1: SyntaxWarning: invalid escape sequence '\\D'\n",
      "  file_path = \"C:\\Dong\\Data analyst\\class 3\\day 4\\De bai\\Round 2 - Data set.xlsx\"\n"
     ]
    }
   ],
   "source": [
    "\n",
    "\n",
    "file_path = \"C:\\Dong\\Data analyst\\class 3\\day 4\\De bai\\Round 2 - Data set.xlsx\"\n",
    "\n",
    "df = pd.read_excel(file_path, sheet_name=\"Purchasing data\")\n"
   ]
  },
  {
   "cell_type": "code",
   "execution_count": 4,
   "metadata": {},
   "outputs": [
    {
     "data": {
      "text/html": [
       "<div>\n",
       "<style scoped>\n",
       "    .dataframe tbody tr th:only-of-type {\n",
       "        vertical-align: middle;\n",
       "    }\n",
       "\n",
       "    .dataframe tbody tr th {\n",
       "        vertical-align: top;\n",
       "    }\n",
       "\n",
       "    .dataframe thead th {\n",
       "        text-align: right;\n",
       "    }\n",
       "</style>\n",
       "<table border=\"1\" class=\"dataframe\">\n",
       "  <thead>\n",
       "    <tr style=\"text-align: right;\">\n",
       "      <th></th>\n",
       "      <th>Unnamed: 0</th>\n",
       "      <th>BillID</th>\n",
       "      <th>Channel</th>\n",
       "      <th>OrderFrom</th>\n",
       "      <th>TransactionDate</th>\n",
       "      <th>SalesAmount</th>\n",
       "      <th>CustomerID</th>\n",
       "      <th>CustomerGender</th>\n",
       "      <th>VoucherStatus</th>\n",
       "      <th>Province</th>\n",
       "    </tr>\n",
       "  </thead>\n",
       "  <tbody>\n",
       "    <tr>\n",
       "      <th>0</th>\n",
       "      <td>0</td>\n",
       "      <td>0</td>\n",
       "      <td>Take Away</td>\n",
       "      <td>CALL CENTER</td>\n",
       "      <td>2021-10-01 00:00:00+00:00</td>\n",
       "      <td>296891</td>\n",
       "      <td>1753863</td>\n",
       "      <td>Unknown</td>\n",
       "      <td>No</td>\n",
       "      <td>Ho Chi Minh City</td>\n",
       "    </tr>\n",
       "    <tr>\n",
       "      <th>1</th>\n",
       "      <td>1</td>\n",
       "      <td>1</td>\n",
       "      <td>Take Away</td>\n",
       "      <td>STORE</td>\n",
       "      <td>2021-10-01 00:00:00+00:00</td>\n",
       "      <td>301782</td>\n",
       "      <td>1124050</td>\n",
       "      <td>Unknown</td>\n",
       "      <td>No</td>\n",
       "      <td>Hanoi</td>\n",
       "    </tr>\n",
       "    <tr>\n",
       "      <th>2</th>\n",
       "      <td>2</td>\n",
       "      <td>2</td>\n",
       "      <td>Take Away</td>\n",
       "      <td>WEBSITE</td>\n",
       "      <td>2021-10-01 00:00:00+00:00</td>\n",
       "      <td>319792</td>\n",
       "      <td>1626827</td>\n",
       "      <td>Male</td>\n",
       "      <td>No</td>\n",
       "      <td>Hanoi</td>\n",
       "    </tr>\n",
       "    <tr>\n",
       "      <th>3</th>\n",
       "      <td>3</td>\n",
       "      <td>3</td>\n",
       "      <td>Take Away</td>\n",
       "      <td>STORE</td>\n",
       "      <td>2021-10-01 00:00:00+00:00</td>\n",
       "      <td>424762</td>\n",
       "      <td>125643</td>\n",
       "      <td>Male</td>\n",
       "      <td>No</td>\n",
       "      <td>Hanoi</td>\n",
       "    </tr>\n",
       "    <tr>\n",
       "      <th>4</th>\n",
       "      <td>4</td>\n",
       "      <td>4</td>\n",
       "      <td>Delivery</td>\n",
       "      <td>STORE</td>\n",
       "      <td>2021-10-01 00:00:00+00:00</td>\n",
       "      <td>280031</td>\n",
       "      <td>2117237</td>\n",
       "      <td>Unknown</td>\n",
       "      <td>No</td>\n",
       "      <td>Hanoi</td>\n",
       "    </tr>\n",
       "    <tr>\n",
       "      <th>...</th>\n",
       "      <td>...</td>\n",
       "      <td>...</td>\n",
       "      <td>...</td>\n",
       "      <td>...</td>\n",
       "      <td>...</td>\n",
       "      <td>...</td>\n",
       "      <td>...</td>\n",
       "      <td>...</td>\n",
       "      <td>...</td>\n",
       "      <td>...</td>\n",
       "    </tr>\n",
       "    <tr>\n",
       "      <th>1048570</th>\n",
       "      <td>1048570</td>\n",
       "      <td>1048570</td>\n",
       "      <td>Delivery</td>\n",
       "      <td>STORE</td>\n",
       "      <td>2023-01-09 00:00:00+00:00</td>\n",
       "      <td>178107</td>\n",
       "      <td>1398136</td>\n",
       "      <td>Unknown</td>\n",
       "      <td>No</td>\n",
       "      <td>Southern Provinces</td>\n",
       "    </tr>\n",
       "    <tr>\n",
       "      <th>1048571</th>\n",
       "      <td>1048571</td>\n",
       "      <td>1048571</td>\n",
       "      <td>Take Away</td>\n",
       "      <td>STORE</td>\n",
       "      <td>2023-01-09 00:00:00+00:00</td>\n",
       "      <td>331447</td>\n",
       "      <td>2023258</td>\n",
       "      <td>Unknown</td>\n",
       "      <td>No</td>\n",
       "      <td>Hanoi</td>\n",
       "    </tr>\n",
       "    <tr>\n",
       "      <th>1048572</th>\n",
       "      <td>1048572</td>\n",
       "      <td>1048572</td>\n",
       "      <td>Take Away</td>\n",
       "      <td>WEBSITE</td>\n",
       "      <td>2023-01-09 00:00:00+00:00</td>\n",
       "      <td>381509</td>\n",
       "      <td>2041510</td>\n",
       "      <td>Female</td>\n",
       "      <td>Yes</td>\n",
       "      <td>Southern Provinces</td>\n",
       "    </tr>\n",
       "    <tr>\n",
       "      <th>1048573</th>\n",
       "      <td>1048573</td>\n",
       "      <td>1048573</td>\n",
       "      <td>Take Away</td>\n",
       "      <td>STORE</td>\n",
       "      <td>2023-01-09 00:00:00+00:00</td>\n",
       "      <td>508205</td>\n",
       "      <td>1927215</td>\n",
       "      <td>Unknown</td>\n",
       "      <td>Yes</td>\n",
       "      <td>Hanoi</td>\n",
       "    </tr>\n",
       "    <tr>\n",
       "      <th>1048574</th>\n",
       "      <td>1048574</td>\n",
       "      <td>1048574</td>\n",
       "      <td>Delivery</td>\n",
       "      <td>CALL CENTER</td>\n",
       "      <td>2023-01-09 00:00:00+00:00</td>\n",
       "      <td>349016</td>\n",
       "      <td>324317</td>\n",
       "      <td>Male</td>\n",
       "      <td>No</td>\n",
       "      <td>Hanoi</td>\n",
       "    </tr>\n",
       "  </tbody>\n",
       "</table>\n",
       "<p>1048575 rows × 10 columns</p>\n",
       "</div>"
      ],
      "text/plain": [
       "         Unnamed: 0   BillID    Channel    OrderFrom  \\\n",
       "0                 0        0  Take Away  CALL CENTER   \n",
       "1                 1        1  Take Away        STORE   \n",
       "2                 2        2  Take Away      WEBSITE   \n",
       "3                 3        3  Take Away        STORE   \n",
       "4                 4        4   Delivery        STORE   \n",
       "...             ...      ...        ...          ...   \n",
       "1048570     1048570  1048570   Delivery        STORE   \n",
       "1048571     1048571  1048571  Take Away        STORE   \n",
       "1048572     1048572  1048572  Take Away      WEBSITE   \n",
       "1048573     1048573  1048573  Take Away        STORE   \n",
       "1048574     1048574  1048574   Delivery  CALL CENTER   \n",
       "\n",
       "                   TransactionDate  SalesAmount  CustomerID CustomerGender  \\\n",
       "0        2021-10-01 00:00:00+00:00       296891     1753863        Unknown   \n",
       "1        2021-10-01 00:00:00+00:00       301782     1124050        Unknown   \n",
       "2        2021-10-01 00:00:00+00:00       319792     1626827           Male   \n",
       "3        2021-10-01 00:00:00+00:00       424762      125643           Male   \n",
       "4        2021-10-01 00:00:00+00:00       280031     2117237        Unknown   \n",
       "...                            ...          ...         ...            ...   \n",
       "1048570  2023-01-09 00:00:00+00:00       178107     1398136        Unknown   \n",
       "1048571  2023-01-09 00:00:00+00:00       331447     2023258        Unknown   \n",
       "1048572  2023-01-09 00:00:00+00:00       381509     2041510         Female   \n",
       "1048573  2023-01-09 00:00:00+00:00       508205     1927215        Unknown   \n",
       "1048574  2023-01-09 00:00:00+00:00       349016      324317           Male   \n",
       "\n",
       "        VoucherStatus            Province  \n",
       "0                  No    Ho Chi Minh City  \n",
       "1                  No               Hanoi  \n",
       "2                  No               Hanoi  \n",
       "3                  No               Hanoi  \n",
       "4                  No               Hanoi  \n",
       "...               ...                 ...  \n",
       "1048570            No  Southern Provinces  \n",
       "1048571            No               Hanoi  \n",
       "1048572           Yes  Southern Provinces  \n",
       "1048573           Yes               Hanoi  \n",
       "1048574            No               Hanoi  \n",
       "\n",
       "[1048575 rows x 10 columns]"
      ]
     },
     "execution_count": 4,
     "metadata": {},
     "output_type": "execute_result"
    }
   ],
   "source": [
    "df"
   ]
  },
  {
   "cell_type": "code",
   "execution_count": 3,
   "metadata": {},
   "outputs": [],
   "source": [
    "df = df.drop(columns=['Unnamed: 0'])"
   ]
  },
  {
   "cell_type": "code",
   "execution_count": 6,
   "metadata": {},
   "outputs": [
    {
     "data": {
      "text/plain": [
       "BillID              int64\n",
       "Channel            object\n",
       "OrderFrom          object\n",
       "TransactionDate    object\n",
       "SalesAmount         int64\n",
       "CustomerID          int64\n",
       "CustomerGender     object\n",
       "VoucherStatus      object\n",
       "Province           object\n",
       "dtype: object"
      ]
     },
     "execution_count": 6,
     "metadata": {},
     "output_type": "execute_result"
    }
   ],
   "source": [
    "df.dtypes"
   ]
  },
  {
   "cell_type": "code",
   "execution_count": 4,
   "metadata": {},
   "outputs": [],
   "source": [
    "df['TransactionDate'] = pd.to_datetime(df['TransactionDate'])"
   ]
  },
  {
   "cell_type": "code",
   "execution_count": 5,
   "metadata": {},
   "outputs": [
    {
     "data": {
      "text/html": [
       "<div>\n",
       "<style scoped>\n",
       "    .dataframe tbody tr th:only-of-type {\n",
       "        vertical-align: middle;\n",
       "    }\n",
       "\n",
       "    .dataframe tbody tr th {\n",
       "        vertical-align: top;\n",
       "    }\n",
       "\n",
       "    .dataframe thead th {\n",
       "        text-align: right;\n",
       "    }\n",
       "</style>\n",
       "<table border=\"1\" class=\"dataframe\">\n",
       "  <thead>\n",
       "    <tr style=\"text-align: right;\">\n",
       "      <th></th>\n",
       "      <th>BillID</th>\n",
       "      <th>Channel</th>\n",
       "      <th>OrderFrom</th>\n",
       "      <th>TransactionDate</th>\n",
       "      <th>SalesAmount</th>\n",
       "      <th>CustomerID</th>\n",
       "      <th>CustomerGender</th>\n",
       "      <th>VoucherStatus</th>\n",
       "      <th>Province</th>\n",
       "    </tr>\n",
       "  </thead>\n",
       "  <tbody>\n",
       "    <tr>\n",
       "      <th>0</th>\n",
       "      <td>0</td>\n",
       "      <td>Take Away</td>\n",
       "      <td>CALL CENTER</td>\n",
       "      <td>2021-10-01 00:00:00+00:00</td>\n",
       "      <td>296891</td>\n",
       "      <td>1753863</td>\n",
       "      <td>Unknown</td>\n",
       "      <td>No</td>\n",
       "      <td>Ho Chi Minh City</td>\n",
       "    </tr>\n",
       "    <tr>\n",
       "      <th>1</th>\n",
       "      <td>1</td>\n",
       "      <td>Take Away</td>\n",
       "      <td>STORE</td>\n",
       "      <td>2021-10-01 00:00:00+00:00</td>\n",
       "      <td>301782</td>\n",
       "      <td>1124050</td>\n",
       "      <td>Unknown</td>\n",
       "      <td>No</td>\n",
       "      <td>Hanoi</td>\n",
       "    </tr>\n",
       "    <tr>\n",
       "      <th>2</th>\n",
       "      <td>2</td>\n",
       "      <td>Take Away</td>\n",
       "      <td>WEBSITE</td>\n",
       "      <td>2021-10-01 00:00:00+00:00</td>\n",
       "      <td>319792</td>\n",
       "      <td>1626827</td>\n",
       "      <td>Male</td>\n",
       "      <td>No</td>\n",
       "      <td>Hanoi</td>\n",
       "    </tr>\n",
       "    <tr>\n",
       "      <th>3</th>\n",
       "      <td>3</td>\n",
       "      <td>Take Away</td>\n",
       "      <td>STORE</td>\n",
       "      <td>2021-10-01 00:00:00+00:00</td>\n",
       "      <td>424762</td>\n",
       "      <td>125643</td>\n",
       "      <td>Male</td>\n",
       "      <td>No</td>\n",
       "      <td>Hanoi</td>\n",
       "    </tr>\n",
       "    <tr>\n",
       "      <th>4</th>\n",
       "      <td>4</td>\n",
       "      <td>Delivery</td>\n",
       "      <td>STORE</td>\n",
       "      <td>2021-10-01 00:00:00+00:00</td>\n",
       "      <td>280031</td>\n",
       "      <td>2117237</td>\n",
       "      <td>Unknown</td>\n",
       "      <td>No</td>\n",
       "      <td>Hanoi</td>\n",
       "    </tr>\n",
       "    <tr>\n",
       "      <th>...</th>\n",
       "      <td>...</td>\n",
       "      <td>...</td>\n",
       "      <td>...</td>\n",
       "      <td>...</td>\n",
       "      <td>...</td>\n",
       "      <td>...</td>\n",
       "      <td>...</td>\n",
       "      <td>...</td>\n",
       "      <td>...</td>\n",
       "    </tr>\n",
       "    <tr>\n",
       "      <th>1048570</th>\n",
       "      <td>1048570</td>\n",
       "      <td>Delivery</td>\n",
       "      <td>STORE</td>\n",
       "      <td>2023-01-09 00:00:00+00:00</td>\n",
       "      <td>178107</td>\n",
       "      <td>1398136</td>\n",
       "      <td>Unknown</td>\n",
       "      <td>No</td>\n",
       "      <td>Southern Provinces</td>\n",
       "    </tr>\n",
       "    <tr>\n",
       "      <th>1048571</th>\n",
       "      <td>1048571</td>\n",
       "      <td>Take Away</td>\n",
       "      <td>STORE</td>\n",
       "      <td>2023-01-09 00:00:00+00:00</td>\n",
       "      <td>331447</td>\n",
       "      <td>2023258</td>\n",
       "      <td>Unknown</td>\n",
       "      <td>No</td>\n",
       "      <td>Hanoi</td>\n",
       "    </tr>\n",
       "    <tr>\n",
       "      <th>1048572</th>\n",
       "      <td>1048572</td>\n",
       "      <td>Take Away</td>\n",
       "      <td>WEBSITE</td>\n",
       "      <td>2023-01-09 00:00:00+00:00</td>\n",
       "      <td>381509</td>\n",
       "      <td>2041510</td>\n",
       "      <td>Female</td>\n",
       "      <td>Yes</td>\n",
       "      <td>Southern Provinces</td>\n",
       "    </tr>\n",
       "    <tr>\n",
       "      <th>1048573</th>\n",
       "      <td>1048573</td>\n",
       "      <td>Take Away</td>\n",
       "      <td>STORE</td>\n",
       "      <td>2023-01-09 00:00:00+00:00</td>\n",
       "      <td>508205</td>\n",
       "      <td>1927215</td>\n",
       "      <td>Unknown</td>\n",
       "      <td>Yes</td>\n",
       "      <td>Hanoi</td>\n",
       "    </tr>\n",
       "    <tr>\n",
       "      <th>1048574</th>\n",
       "      <td>1048574</td>\n",
       "      <td>Delivery</td>\n",
       "      <td>CALL CENTER</td>\n",
       "      <td>2023-01-09 00:00:00+00:00</td>\n",
       "      <td>349016</td>\n",
       "      <td>324317</td>\n",
       "      <td>Male</td>\n",
       "      <td>No</td>\n",
       "      <td>Hanoi</td>\n",
       "    </tr>\n",
       "  </tbody>\n",
       "</table>\n",
       "<p>1048575 rows × 9 columns</p>\n",
       "</div>"
      ],
      "text/plain": [
       "          BillID    Channel    OrderFrom           TransactionDate  \\\n",
       "0              0  Take Away  CALL CENTER 2021-10-01 00:00:00+00:00   \n",
       "1              1  Take Away        STORE 2021-10-01 00:00:00+00:00   \n",
       "2              2  Take Away      WEBSITE 2021-10-01 00:00:00+00:00   \n",
       "3              3  Take Away        STORE 2021-10-01 00:00:00+00:00   \n",
       "4              4   Delivery        STORE 2021-10-01 00:00:00+00:00   \n",
       "...          ...        ...          ...                       ...   \n",
       "1048570  1048570   Delivery        STORE 2023-01-09 00:00:00+00:00   \n",
       "1048571  1048571  Take Away        STORE 2023-01-09 00:00:00+00:00   \n",
       "1048572  1048572  Take Away      WEBSITE 2023-01-09 00:00:00+00:00   \n",
       "1048573  1048573  Take Away        STORE 2023-01-09 00:00:00+00:00   \n",
       "1048574  1048574   Delivery  CALL CENTER 2023-01-09 00:00:00+00:00   \n",
       "\n",
       "         SalesAmount  CustomerID CustomerGender VoucherStatus  \\\n",
       "0             296891     1753863        Unknown            No   \n",
       "1             301782     1124050        Unknown            No   \n",
       "2             319792     1626827           Male            No   \n",
       "3             424762      125643           Male            No   \n",
       "4             280031     2117237        Unknown            No   \n",
       "...              ...         ...            ...           ...   \n",
       "1048570       178107     1398136        Unknown            No   \n",
       "1048571       331447     2023258        Unknown            No   \n",
       "1048572       381509     2041510         Female           Yes   \n",
       "1048573       508205     1927215        Unknown           Yes   \n",
       "1048574       349016      324317           Male            No   \n",
       "\n",
       "                   Province  \n",
       "0          Ho Chi Minh City  \n",
       "1                     Hanoi  \n",
       "2                     Hanoi  \n",
       "3                     Hanoi  \n",
       "4                     Hanoi  \n",
       "...                     ...  \n",
       "1048570  Southern Provinces  \n",
       "1048571               Hanoi  \n",
       "1048572  Southern Provinces  \n",
       "1048573               Hanoi  \n",
       "1048574               Hanoi  \n",
       "\n",
       "[1048575 rows x 9 columns]"
      ]
     },
     "execution_count": 5,
     "metadata": {},
     "output_type": "execute_result"
    }
   ],
   "source": [
    "df"
   ]
  },
  {
   "cell_type": "code",
   "execution_count": 7,
   "metadata": {},
   "outputs": [
    {
     "data": {
      "text/plain": [
       "array(['Take Away', 'Delivery', 'Dine In'], dtype=object)"
      ]
     },
     "execution_count": 7,
     "metadata": {},
     "output_type": "execute_result"
    }
   ],
   "source": [
    "df['Channel'].unique()"
   ]
  },
  {
   "cell_type": "code",
   "execution_count": 8,
   "metadata": {},
   "outputs": [],
   "source": [
    "#Which channel are they purchasing from?\n",
    "customer_channel = df.groupby('Channel').agg({'CustomerID':'count','SalesAmount':'sum'}).reset_index()"
   ]
  },
  {
   "cell_type": "code",
   "execution_count": 9,
   "metadata": {},
   "outputs": [],
   "source": [
    "customer_channel = customer_channel.rename(columns={'CustomerID':'Total Customer'})"
   ]
  },
  {
   "cell_type": "code",
   "execution_count": 10,
   "metadata": {},
   "outputs": [
    {
     "data": {
      "text/html": [
       "<div>\n",
       "<style scoped>\n",
       "    .dataframe tbody tr th:only-of-type {\n",
       "        vertical-align: middle;\n",
       "    }\n",
       "\n",
       "    .dataframe tbody tr th {\n",
       "        vertical-align: top;\n",
       "    }\n",
       "\n",
       "    .dataframe thead th {\n",
       "        text-align: right;\n",
       "    }\n",
       "</style>\n",
       "<table border=\"1\" class=\"dataframe\">\n",
       "  <thead>\n",
       "    <tr style=\"text-align: right;\">\n",
       "      <th></th>\n",
       "      <th>Channel</th>\n",
       "      <th>Total Customer</th>\n",
       "      <th>SalesAmount</th>\n",
       "    </tr>\n",
       "  </thead>\n",
       "  <tbody>\n",
       "    <tr>\n",
       "      <th>0</th>\n",
       "      <td>Delivery</td>\n",
       "      <td>500918</td>\n",
       "      <td>172803061863</td>\n",
       "    </tr>\n",
       "    <tr>\n",
       "      <th>1</th>\n",
       "      <td>Dine In</td>\n",
       "      <td>23507</td>\n",
       "      <td>10609311111</td>\n",
       "    </tr>\n",
       "    <tr>\n",
       "      <th>2</th>\n",
       "      <td>Take Away</td>\n",
       "      <td>524150</td>\n",
       "      <td>136269021450</td>\n",
       "    </tr>\n",
       "  </tbody>\n",
       "</table>\n",
       "</div>"
      ],
      "text/plain": [
       "     Channel  Total Customer   SalesAmount\n",
       "0   Delivery          500918  172803061863\n",
       "1    Dine In           23507   10609311111\n",
       "2  Take Away          524150  136269021450"
      ]
     },
     "execution_count": 10,
     "metadata": {},
     "output_type": "execute_result"
    }
   ],
   "source": [
    "customer_channel"
   ]
  },
  {
   "cell_type": "code",
   "execution_count": 11,
   "metadata": {},
   "outputs": [],
   "source": [
    "#customer_channel\n",
    "province_group = df.groupby('Province').agg({'CustomerID':'count','SalesAmount':'sum'}).reset_index()"
   ]
  },
  {
   "cell_type": "code",
   "execution_count": 12,
   "metadata": {},
   "outputs": [],
   "source": [
    "province_group = province_group.rename(columns={'CustomerID':'Total Customer'})"
   ]
  },
  {
   "cell_type": "code",
   "execution_count": 13,
   "metadata": {},
   "outputs": [
    {
     "data": {
      "text/html": [
       "<div>\n",
       "<style scoped>\n",
       "    .dataframe tbody tr th:only-of-type {\n",
       "        vertical-align: middle;\n",
       "    }\n",
       "\n",
       "    .dataframe tbody tr th {\n",
       "        vertical-align: top;\n",
       "    }\n",
       "\n",
       "    .dataframe thead th {\n",
       "        text-align: right;\n",
       "    }\n",
       "</style>\n",
       "<table border=\"1\" class=\"dataframe\">\n",
       "  <thead>\n",
       "    <tr style=\"text-align: right;\">\n",
       "      <th></th>\n",
       "      <th>Province</th>\n",
       "      <th>Total Customer</th>\n",
       "      <th>SalesAmount</th>\n",
       "    </tr>\n",
       "  </thead>\n",
       "  <tbody>\n",
       "    <tr>\n",
       "      <th>0</th>\n",
       "      <td>Hanoi</td>\n",
       "      <td>321700</td>\n",
       "      <td>104173215711</td>\n",
       "    </tr>\n",
       "    <tr>\n",
       "      <th>1</th>\n",
       "      <td>Ho Chi Minh City</td>\n",
       "      <td>304367</td>\n",
       "      <td>99646505266</td>\n",
       "    </tr>\n",
       "    <tr>\n",
       "      <th>3</th>\n",
       "      <td>Southern Provinces</td>\n",
       "      <td>259482</td>\n",
       "      <td>72133485546</td>\n",
       "    </tr>\n",
       "    <tr>\n",
       "      <th>2</th>\n",
       "      <td>Nothern Provinces</td>\n",
       "      <td>163026</td>\n",
       "      <td>43728187901</td>\n",
       "    </tr>\n",
       "  </tbody>\n",
       "</table>\n",
       "</div>"
      ],
      "text/plain": [
       "             Province  Total Customer   SalesAmount\n",
       "0               Hanoi          321700  104173215711\n",
       "1    Ho Chi Minh City          304367   99646505266\n",
       "3  Southern Provinces          259482   72133485546\n",
       "2   Nothern Provinces          163026   43728187901"
      ]
     },
     "execution_count": 13,
     "metadata": {},
     "output_type": "execute_result"
    }
   ],
   "source": [
    "province_group.sort_values(by='SalesAmount',ascending=False)"
   ]
  },
  {
   "cell_type": "code",
   "execution_count": 14,
   "metadata": {},
   "outputs": [
    {
     "data": {
      "text/html": [
       "<div>\n",
       "<style scoped>\n",
       "    .dataframe tbody tr th:only-of-type {\n",
       "        vertical-align: middle;\n",
       "    }\n",
       "\n",
       "    .dataframe tbody tr th {\n",
       "        vertical-align: top;\n",
       "    }\n",
       "\n",
       "    .dataframe thead th {\n",
       "        text-align: right;\n",
       "    }\n",
       "</style>\n",
       "<table border=\"1\" class=\"dataframe\">\n",
       "  <thead>\n",
       "    <tr style=\"text-align: right;\">\n",
       "      <th></th>\n",
       "      <th>index</th>\n",
       "      <th>Total Customer</th>\n",
       "      <th>SalesAmount</th>\n",
       "    </tr>\n",
       "  </thead>\n",
       "  <tbody>\n",
       "    <tr>\n",
       "      <th>0</th>\n",
       "      <td>count</td>\n",
       "      <td>4.000000</td>\n",
       "      <td>4.000000e+00</td>\n",
       "    </tr>\n",
       "    <tr>\n",
       "      <th>1</th>\n",
       "      <td>mean</td>\n",
       "      <td>262143.750000</td>\n",
       "      <td>7.992035e+10</td>\n",
       "    </tr>\n",
       "    <tr>\n",
       "      <th>2</th>\n",
       "      <td>std</td>\n",
       "      <td>71089.528138</td>\n",
       "      <td>2.797517e+10</td>\n",
       "    </tr>\n",
       "    <tr>\n",
       "      <th>3</th>\n",
       "      <td>min</td>\n",
       "      <td>163026.000000</td>\n",
       "      <td>4.372819e+10</td>\n",
       "    </tr>\n",
       "    <tr>\n",
       "      <th>4</th>\n",
       "      <td>25%</td>\n",
       "      <td>235368.000000</td>\n",
       "      <td>6.503216e+10</td>\n",
       "    </tr>\n",
       "    <tr>\n",
       "      <th>5</th>\n",
       "      <td>50%</td>\n",
       "      <td>281924.500000</td>\n",
       "      <td>8.589000e+10</td>\n",
       "    </tr>\n",
       "    <tr>\n",
       "      <th>6</th>\n",
       "      <td>75%</td>\n",
       "      <td>308700.250000</td>\n",
       "      <td>1.007782e+11</td>\n",
       "    </tr>\n",
       "    <tr>\n",
       "      <th>7</th>\n",
       "      <td>max</td>\n",
       "      <td>321700.000000</td>\n",
       "      <td>1.041732e+11</td>\n",
       "    </tr>\n",
       "  </tbody>\n",
       "</table>\n",
       "</div>"
      ],
      "text/plain": [
       "   index  Total Customer   SalesAmount\n",
       "0  count        4.000000  4.000000e+00\n",
       "1   mean   262143.750000  7.992035e+10\n",
       "2    std    71089.528138  2.797517e+10\n",
       "3    min   163026.000000  4.372819e+10\n",
       "4    25%   235368.000000  6.503216e+10\n",
       "5    50%   281924.500000  8.589000e+10\n",
       "6    75%   308700.250000  1.007782e+11\n",
       "7    max   321700.000000  1.041732e+11"
      ]
     },
     "execution_count": 14,
     "metadata": {},
     "output_type": "execute_result"
    }
   ],
   "source": [
    "province_group.describe().reset_index()"
   ]
  },
  {
   "cell_type": "code",
   "execution_count": 15,
   "metadata": {},
   "outputs": [],
   "source": [
    "#Who are the people buying products?\n",
    "gender_group = df.groupby('CustomerGender').agg({'CustomerID':'count','SalesAmount':'sum'}).reset_index()"
   ]
  },
  {
   "cell_type": "code",
   "execution_count": 16,
   "metadata": {},
   "outputs": [
    {
     "data": {
      "text/html": [
       "<div>\n",
       "<style scoped>\n",
       "    .dataframe tbody tr th:only-of-type {\n",
       "        vertical-align: middle;\n",
       "    }\n",
       "\n",
       "    .dataframe tbody tr th {\n",
       "        vertical-align: top;\n",
       "    }\n",
       "\n",
       "    .dataframe thead th {\n",
       "        text-align: right;\n",
       "    }\n",
       "</style>\n",
       "<table border=\"1\" class=\"dataframe\">\n",
       "  <thead>\n",
       "    <tr style=\"text-align: right;\">\n",
       "      <th></th>\n",
       "      <th>CustomerGender</th>\n",
       "      <th>CustomerID</th>\n",
       "      <th>SalesAmount</th>\n",
       "    </tr>\n",
       "  </thead>\n",
       "  <tbody>\n",
       "    <tr>\n",
       "      <th>0</th>\n",
       "      <td>Female</td>\n",
       "      <td>142385</td>\n",
       "      <td>49017813959</td>\n",
       "    </tr>\n",
       "    <tr>\n",
       "      <th>1</th>\n",
       "      <td>Male</td>\n",
       "      <td>272150</td>\n",
       "      <td>92613222780</td>\n",
       "    </tr>\n",
       "    <tr>\n",
       "      <th>2</th>\n",
       "      <td>Unknown</td>\n",
       "      <td>634040</td>\n",
       "      <td>178050357685</td>\n",
       "    </tr>\n",
       "  </tbody>\n",
       "</table>\n",
       "</div>"
      ],
      "text/plain": [
       "  CustomerGender  CustomerID   SalesAmount\n",
       "0         Female      142385   49017813959\n",
       "1           Male      272150   92613222780\n",
       "2        Unknown      634040  178050357685"
      ]
     },
     "execution_count": 16,
     "metadata": {},
     "output_type": "execute_result"
    }
   ],
   "source": [
    "gender_group"
   ]
  },
  {
   "cell_type": "code",
   "execution_count": 17,
   "metadata": {},
   "outputs": [],
   "source": [
    "#male used voucher\n",
    "male_use_voucher = df[(df['VoucherStatus'] == 'Yes') & (df['CustomerGender'] == 'Male')].groupby('Province').agg({'VoucherStatus':'count'}).reset_index()\n",
    "male_use_voucher.rename(columns = {'VoucherStatus':'MalesUseVouchers'}, inplace = True)\n",
    "\n",
    "#male didn't use voucher\n",
    "male_no_voucher = df[(df['VoucherStatus'] == 'No') & (df['CustomerGender'] == 'Male')].groupby('Province').agg({'VoucherStatus':'count'}).reset_index()\n",
    "male_no_voucher.rename(columns = {'VoucherStatus':'MalesDontUseVouchers'}, inplace = True)\n",
    "\n",
    "#female used voucher\n",
    "female_use_voucher = df[(df['VoucherStatus'] == 'Yes') & (df['CustomerGender'] == 'Female')].groupby('Province').agg({'VoucherStatus':'count'}).reset_index()\n",
    "female_use_voucher.rename(columns = {'VoucherStatus':'FemalesUseVouchers'}, inplace = True)\n",
    "\n",
    "#female didn't use voucher\n",
    "female_no_voucher = df[(df['VoucherStatus'] == 'No') & (df['CustomerGender'] == 'Female')].groupby('Province').agg({'VoucherStatus':'count'}).reset_index()\n",
    "female_no_voucher.rename(columns = {'VoucherStatus':'FemalesDidntUseVouchers'}, inplace = True)\n"
   ]
  },
  {
   "cell_type": "code",
   "execution_count": 18,
   "metadata": {},
   "outputs": [
    {
     "data": {
      "text/html": [
       "<div>\n",
       "<style scoped>\n",
       "    .dataframe tbody tr th:only-of-type {\n",
       "        vertical-align: middle;\n",
       "    }\n",
       "\n",
       "    .dataframe tbody tr th {\n",
       "        vertical-align: top;\n",
       "    }\n",
       "\n",
       "    .dataframe thead th {\n",
       "        text-align: right;\n",
       "    }\n",
       "</style>\n",
       "<table border=\"1\" class=\"dataframe\">\n",
       "  <thead>\n",
       "    <tr style=\"text-align: right;\">\n",
       "      <th></th>\n",
       "      <th>Province</th>\n",
       "      <th>MalesUseVouchers</th>\n",
       "      <th>MalesDontUseVouchers</th>\n",
       "      <th>FemalesUseVouchers</th>\n",
       "      <th>FemalesDidntUseVouchers</th>\n",
       "    </tr>\n",
       "  </thead>\n",
       "  <tbody>\n",
       "    <tr>\n",
       "      <th>0</th>\n",
       "      <td>Hanoi</td>\n",
       "      <td>18604</td>\n",
       "      <td>71674</td>\n",
       "      <td>7725</td>\n",
       "      <td>35906</td>\n",
       "    </tr>\n",
       "    <tr>\n",
       "      <th>1</th>\n",
       "      <td>Ho Chi Minh City</td>\n",
       "      <td>20434</td>\n",
       "      <td>74148</td>\n",
       "      <td>11429</td>\n",
       "      <td>46110</td>\n",
       "    </tr>\n",
       "    <tr>\n",
       "      <th>2</th>\n",
       "      <td>Nothern Provinces</td>\n",
       "      <td>4903</td>\n",
       "      <td>21507</td>\n",
       "      <td>1852</td>\n",
       "      <td>9693</td>\n",
       "    </tr>\n",
       "    <tr>\n",
       "      <th>3</th>\n",
       "      <td>Southern Provinces</td>\n",
       "      <td>10850</td>\n",
       "      <td>50030</td>\n",
       "      <td>4758</td>\n",
       "      <td>24912</td>\n",
       "    </tr>\n",
       "  </tbody>\n",
       "</table>\n",
       "</div>"
      ],
      "text/plain": [
       "             Province  MalesUseVouchers  MalesDontUseVouchers  \\\n",
       "0               Hanoi             18604                 71674   \n",
       "1    Ho Chi Minh City             20434                 74148   \n",
       "2   Nothern Provinces              4903                 21507   \n",
       "3  Southern Provinces             10850                 50030   \n",
       "\n",
       "   FemalesUseVouchers  FemalesDidntUseVouchers  \n",
       "0                7725                    35906  \n",
       "1               11429                    46110  \n",
       "2                1852                     9693  \n",
       "3                4758                    24912  "
      ]
     },
     "execution_count": 18,
     "metadata": {},
     "output_type": "execute_result"
    }
   ],
   "source": [
    "voucher_province_by_gender = male_use_voucher.merge(male_no_voucher,on='Province',how='inner').merge(female_use_voucher,on='Province',how='inner').merge(female_no_voucher,on='Province',how='inner')\n",
    "voucher_province_by_gender"
   ]
  },
  {
   "cell_type": "code",
   "execution_count": 5,
   "metadata": {},
   "outputs": [],
   "source": [
    "R = df.groupby('CustomerID')['TransactionDate'].max().reset_index()"
   ]
  },
  {
   "cell_type": "code",
   "execution_count": 6,
   "metadata": {},
   "outputs": [],
   "source": [
    "R['TransactionDate'] = R['TransactionDate'].dt.tz_convert(None)"
   ]
  },
  {
   "cell_type": "code",
   "execution_count": 7,
   "metadata": {},
   "outputs": [
    {
     "data": {
      "text/html": [
       "<div>\n",
       "<style scoped>\n",
       "    .dataframe tbody tr th:only-of-type {\n",
       "        vertical-align: middle;\n",
       "    }\n",
       "\n",
       "    .dataframe tbody tr th {\n",
       "        vertical-align: top;\n",
       "    }\n",
       "\n",
       "    .dataframe thead th {\n",
       "        text-align: right;\n",
       "    }\n",
       "</style>\n",
       "<table border=\"1\" class=\"dataframe\">\n",
       "  <thead>\n",
       "    <tr style=\"text-align: right;\">\n",
       "      <th></th>\n",
       "      <th>CustomerID</th>\n",
       "      <th>TransactionDate</th>\n",
       "      <th>DateDiff</th>\n",
       "    </tr>\n",
       "  </thead>\n",
       "  <tbody>\n",
       "    <tr>\n",
       "      <th>0</th>\n",
       "      <td>0</td>\n",
       "      <td>2021-12-24</td>\n",
       "      <td>834</td>\n",
       "    </tr>\n",
       "    <tr>\n",
       "      <th>1</th>\n",
       "      <td>1</td>\n",
       "      <td>2022-03-07</td>\n",
       "      <td>761</td>\n",
       "    </tr>\n",
       "    <tr>\n",
       "      <th>2</th>\n",
       "      <td>8</td>\n",
       "      <td>2022-07-11</td>\n",
       "      <td>635</td>\n",
       "    </tr>\n",
       "    <tr>\n",
       "      <th>3</th>\n",
       "      <td>16</td>\n",
       "      <td>2022-09-16</td>\n",
       "      <td>568</td>\n",
       "    </tr>\n",
       "    <tr>\n",
       "      <th>4</th>\n",
       "      <td>18</td>\n",
       "      <td>2022-01-29</td>\n",
       "      <td>798</td>\n",
       "    </tr>\n",
       "    <tr>\n",
       "      <th>...</th>\n",
       "      <td>...</td>\n",
       "      <td>...</td>\n",
       "      <td>...</td>\n",
       "    </tr>\n",
       "    <tr>\n",
       "      <th>583637</th>\n",
       "      <td>2174065</td>\n",
       "      <td>2022-04-30</td>\n",
       "      <td>707</td>\n",
       "    </tr>\n",
       "    <tr>\n",
       "      <th>583638</th>\n",
       "      <td>2174066</td>\n",
       "      <td>2023-01-03</td>\n",
       "      <td>459</td>\n",
       "    </tr>\n",
       "    <tr>\n",
       "      <th>583639</th>\n",
       "      <td>2174072</td>\n",
       "      <td>2022-12-04</td>\n",
       "      <td>489</td>\n",
       "    </tr>\n",
       "    <tr>\n",
       "      <th>583640</th>\n",
       "      <td>2174075</td>\n",
       "      <td>2022-12-10</td>\n",
       "      <td>483</td>\n",
       "    </tr>\n",
       "    <tr>\n",
       "      <th>583641</th>\n",
       "      <td>2174083</td>\n",
       "      <td>2021-10-16</td>\n",
       "      <td>903</td>\n",
       "    </tr>\n",
       "  </tbody>\n",
       "</table>\n",
       "<p>583642 rows × 3 columns</p>\n",
       "</div>"
      ],
      "text/plain": [
       "        CustomerID TransactionDate  DateDiff\n",
       "0                0      2021-12-24       834\n",
       "1                1      2022-03-07       761\n",
       "2                8      2022-07-11       635\n",
       "3               16      2022-09-16       568\n",
       "4               18      2022-01-29       798\n",
       "...            ...             ...       ...\n",
       "583637     2174065      2022-04-30       707\n",
       "583638     2174066      2023-01-03       459\n",
       "583639     2174072      2022-12-04       489\n",
       "583640     2174075      2022-12-10       483\n",
       "583641     2174083      2021-10-16       903\n",
       "\n",
       "[583642 rows x 3 columns]"
      ]
     },
     "execution_count": 7,
     "metadata": {},
     "output_type": "execute_result"
    }
   ],
   "source": [
    "today = pd.Timestamp(datetime.today().date())  # Get today's date\n",
    "R['DateDiff'] = (today - R['TransactionDate']).dt.days\n",
    "R"
   ]
  },
  {
   "cell_type": "code",
   "execution_count": 8,
   "metadata": {},
   "outputs": [],
   "source": [
    "R_1 = R "
   ]
  },
  {
   "cell_type": "code",
   "execution_count": 9,
   "metadata": {},
   "outputs": [
    {
     "name": "stdout",
     "output_type": "stream",
     "text": [
      "Q1 (25th percentile): 554.0\n",
      "Q2 (median): 672.8328684364731\n",
      "Q3 (75th percentile): 789.0\n",
      "Q4 (max): 918\n"
     ]
    }
   ],
   "source": [
    "Q1_R = R['DateDiff'].quantile(0.25)\n",
    "Q2_R = R['DateDiff'].mean()\n",
    "Q3_R=  R['DateDiff'].quantile(0.75)\n",
    "Q4_R = R['DateDiff'].max()\n",
    "print(\"Q1 (25th percentile):\", Q1_R)\n",
    "print(\"Q2 (median):\", Q2_R)\n",
    "print(\"Q3 (75th percentile):\", Q3_R)\n",
    "print(\"Q4 (max):\", Q4_R)"
   ]
  },
  {
   "cell_type": "code",
   "execution_count": 10,
   "metadata": {},
   "outputs": [],
   "source": [
    "R_seprate = lambda x: 4 if x < Q1_R else(3 if x >=Q1_R and x<Q2_R \n",
    "                                        else(2 if x >=Q2_R and x<Q3_R \n",
    "                                             else(1)))"
   ]
  },
  {
   "cell_type": "code",
   "execution_count": 11,
   "metadata": {},
   "outputs": [],
   "source": [
    "R['R'] = R['DateDiff'].apply(R_seprate)\n"
   ]
  },
  {
   "cell_type": "code",
   "execution_count": 12,
   "metadata": {},
   "outputs": [
    {
     "data": {
      "text/html": [
       "<div>\n",
       "<style scoped>\n",
       "    .dataframe tbody tr th:only-of-type {\n",
       "        vertical-align: middle;\n",
       "    }\n",
       "\n",
       "    .dataframe tbody tr th {\n",
       "        vertical-align: top;\n",
       "    }\n",
       "\n",
       "    .dataframe thead th {\n",
       "        text-align: right;\n",
       "    }\n",
       "</style>\n",
       "<table border=\"1\" class=\"dataframe\">\n",
       "  <thead>\n",
       "    <tr style=\"text-align: right;\">\n",
       "      <th></th>\n",
       "      <th>CustomerID</th>\n",
       "      <th>R</th>\n",
       "    </tr>\n",
       "  </thead>\n",
       "  <tbody>\n",
       "    <tr>\n",
       "      <th>0</th>\n",
       "      <td>0</td>\n",
       "      <td>1</td>\n",
       "    </tr>\n",
       "    <tr>\n",
       "      <th>1</th>\n",
       "      <td>1</td>\n",
       "      <td>2</td>\n",
       "    </tr>\n",
       "    <tr>\n",
       "      <th>2</th>\n",
       "      <td>8</td>\n",
       "      <td>3</td>\n",
       "    </tr>\n",
       "    <tr>\n",
       "      <th>3</th>\n",
       "      <td>16</td>\n",
       "      <td>3</td>\n",
       "    </tr>\n",
       "    <tr>\n",
       "      <th>4</th>\n",
       "      <td>18</td>\n",
       "      <td>1</td>\n",
       "    </tr>\n",
       "    <tr>\n",
       "      <th>...</th>\n",
       "      <td>...</td>\n",
       "      <td>...</td>\n",
       "    </tr>\n",
       "    <tr>\n",
       "      <th>583637</th>\n",
       "      <td>2174065</td>\n",
       "      <td>2</td>\n",
       "    </tr>\n",
       "    <tr>\n",
       "      <th>583638</th>\n",
       "      <td>2174066</td>\n",
       "      <td>4</td>\n",
       "    </tr>\n",
       "    <tr>\n",
       "      <th>583639</th>\n",
       "      <td>2174072</td>\n",
       "      <td>4</td>\n",
       "    </tr>\n",
       "    <tr>\n",
       "      <th>583640</th>\n",
       "      <td>2174075</td>\n",
       "      <td>4</td>\n",
       "    </tr>\n",
       "    <tr>\n",
       "      <th>583641</th>\n",
       "      <td>2174083</td>\n",
       "      <td>1</td>\n",
       "    </tr>\n",
       "  </tbody>\n",
       "</table>\n",
       "<p>583642 rows × 2 columns</p>\n",
       "</div>"
      ],
      "text/plain": [
       "        CustomerID  R\n",
       "0                0  1\n",
       "1                1  2\n",
       "2                8  3\n",
       "3               16  3\n",
       "4               18  1\n",
       "...            ... ..\n",
       "583637     2174065  2\n",
       "583638     2174066  4\n",
       "583639     2174072  4\n",
       "583640     2174075  4\n",
       "583641     2174083  1\n",
       "\n",
       "[583642 rows x 2 columns]"
      ]
     },
     "execution_count": 12,
     "metadata": {},
     "output_type": "execute_result"
    }
   ],
   "source": [
    "R = R[['CustomerID','R']]\n",
    "R"
   ]
  },
  {
   "cell_type": "code",
   "execution_count": 13,
   "metadata": {},
   "outputs": [
    {
     "data": {
      "text/html": [
       "<div>\n",
       "<style scoped>\n",
       "    .dataframe tbody tr th:only-of-type {\n",
       "        vertical-align: middle;\n",
       "    }\n",
       "\n",
       "    .dataframe tbody tr th {\n",
       "        vertical-align: top;\n",
       "    }\n",
       "\n",
       "    .dataframe thead th {\n",
       "        text-align: right;\n",
       "    }\n",
       "</style>\n",
       "<table border=\"1\" class=\"dataframe\">\n",
       "  <thead>\n",
       "    <tr style=\"text-align: right;\">\n",
       "      <th></th>\n",
       "      <th>CustomerID</th>\n",
       "      <th>BillID</th>\n",
       "    </tr>\n",
       "  </thead>\n",
       "  <tbody>\n",
       "    <tr>\n",
       "      <th>0</th>\n",
       "      <td>0</td>\n",
       "      <td>1</td>\n",
       "    </tr>\n",
       "    <tr>\n",
       "      <th>1</th>\n",
       "      <td>1</td>\n",
       "      <td>1</td>\n",
       "    </tr>\n",
       "    <tr>\n",
       "      <th>2</th>\n",
       "      <td>8</td>\n",
       "      <td>1</td>\n",
       "    </tr>\n",
       "    <tr>\n",
       "      <th>3</th>\n",
       "      <td>16</td>\n",
       "      <td>1</td>\n",
       "    </tr>\n",
       "    <tr>\n",
       "      <th>4</th>\n",
       "      <td>18</td>\n",
       "      <td>1</td>\n",
       "    </tr>\n",
       "    <tr>\n",
       "      <th>...</th>\n",
       "      <td>...</td>\n",
       "      <td>...</td>\n",
       "    </tr>\n",
       "    <tr>\n",
       "      <th>583637</th>\n",
       "      <td>2174065</td>\n",
       "      <td>1</td>\n",
       "    </tr>\n",
       "    <tr>\n",
       "      <th>583638</th>\n",
       "      <td>2174066</td>\n",
       "      <td>1</td>\n",
       "    </tr>\n",
       "    <tr>\n",
       "      <th>583639</th>\n",
       "      <td>2174072</td>\n",
       "      <td>3</td>\n",
       "    </tr>\n",
       "    <tr>\n",
       "      <th>583640</th>\n",
       "      <td>2174075</td>\n",
       "      <td>1</td>\n",
       "    </tr>\n",
       "    <tr>\n",
       "      <th>583641</th>\n",
       "      <td>2174083</td>\n",
       "      <td>1</td>\n",
       "    </tr>\n",
       "  </tbody>\n",
       "</table>\n",
       "<p>583642 rows × 2 columns</p>\n",
       "</div>"
      ],
      "text/plain": [
       "        CustomerID  BillID\n",
       "0                0       1\n",
       "1                1       1\n",
       "2                8       1\n",
       "3               16       1\n",
       "4               18       1\n",
       "...            ...     ...\n",
       "583637     2174065       1\n",
       "583638     2174066       1\n",
       "583639     2174072       3\n",
       "583640     2174075       1\n",
       "583641     2174083       1\n",
       "\n",
       "[583642 rows x 2 columns]"
      ]
     },
     "execution_count": 13,
     "metadata": {},
     "output_type": "execute_result"
    }
   ],
   "source": [
    "F = df.groupby('CustomerID')['BillID'].count().reset_index()\n",
    "F"
   ]
  },
  {
   "cell_type": "code",
   "execution_count": 14,
   "metadata": {},
   "outputs": [],
   "source": [
    "F.rename(columns={'BillID':'Frequency'},inplace=True)"
   ]
  },
  {
   "cell_type": "code",
   "execution_count": 15,
   "metadata": {},
   "outputs": [],
   "source": [
    "F_1 = F"
   ]
  },
  {
   "cell_type": "code",
   "execution_count": 16,
   "metadata": {},
   "outputs": [
    {
     "data": {
      "text/plain": [
       "array([  1,   2,   3,   4,   7,  16,   5,   8,   6,  15,   9,  20,  14,\n",
       "        11,  12,  19,  27,  13,  10,  17,  42,  24,  18,  43,  21,  23,\n",
       "        32,  29,  31,  35,  30,  34,  26,  48,  25,  39,  54, 141,  46,\n",
       "        22,  37,  44,  47,  52,  45, 109,  50,  60,  28,  40, 123,  33,\n",
       "        36,  72,  68,  61,  51,  67,  79,  64,  70,  56,  58,  57,  63,\n",
       "       155,  38, 136,  41,  75,  53, 168,  81,  73,  89,  74,  82,  62,\n",
       "        49,  98, 166,  77, 238,  80,  65,  83,  55,  99, 101,  84],\n",
       "      dtype=int64)"
      ]
     },
     "execution_count": 16,
     "metadata": {},
     "output_type": "execute_result"
    }
   ],
   "source": [
    "F['Frequency'].unique()"
   ]
  },
  {
   "cell_type": "code",
   "execution_count": 17,
   "metadata": {},
   "outputs": [],
   "source": [
    "F_seprate = lambda x: 1 if x < 15 else(2 if x >=15 and x<40 \n",
    "                                        else(3 if x >=40 and x<80 \n",
    "                                             else(4)))"
   ]
  },
  {
   "cell_type": "code",
   "execution_count": 18,
   "metadata": {},
   "outputs": [],
   "source": [
    "F['F'] = F['Frequency'].apply(F_seprate)"
   ]
  },
  {
   "cell_type": "code",
   "execution_count": 19,
   "metadata": {},
   "outputs": [
    {
     "data": {
      "text/html": [
       "<div>\n",
       "<style scoped>\n",
       "    .dataframe tbody tr th:only-of-type {\n",
       "        vertical-align: middle;\n",
       "    }\n",
       "\n",
       "    .dataframe tbody tr th {\n",
       "        vertical-align: top;\n",
       "    }\n",
       "\n",
       "    .dataframe thead th {\n",
       "        text-align: right;\n",
       "    }\n",
       "</style>\n",
       "<table border=\"1\" class=\"dataframe\">\n",
       "  <thead>\n",
       "    <tr style=\"text-align: right;\">\n",
       "      <th></th>\n",
       "      <th>CustomerID</th>\n",
       "      <th>F</th>\n",
       "    </tr>\n",
       "  </thead>\n",
       "  <tbody>\n",
       "    <tr>\n",
       "      <th>0</th>\n",
       "      <td>0</td>\n",
       "      <td>1</td>\n",
       "    </tr>\n",
       "    <tr>\n",
       "      <th>1</th>\n",
       "      <td>1</td>\n",
       "      <td>1</td>\n",
       "    </tr>\n",
       "    <tr>\n",
       "      <th>2</th>\n",
       "      <td>8</td>\n",
       "      <td>1</td>\n",
       "    </tr>\n",
       "    <tr>\n",
       "      <th>3</th>\n",
       "      <td>16</td>\n",
       "      <td>1</td>\n",
       "    </tr>\n",
       "    <tr>\n",
       "      <th>4</th>\n",
       "      <td>18</td>\n",
       "      <td>1</td>\n",
       "    </tr>\n",
       "    <tr>\n",
       "      <th>...</th>\n",
       "      <td>...</td>\n",
       "      <td>...</td>\n",
       "    </tr>\n",
       "    <tr>\n",
       "      <th>583637</th>\n",
       "      <td>2174065</td>\n",
       "      <td>1</td>\n",
       "    </tr>\n",
       "    <tr>\n",
       "      <th>583638</th>\n",
       "      <td>2174066</td>\n",
       "      <td>1</td>\n",
       "    </tr>\n",
       "    <tr>\n",
       "      <th>583639</th>\n",
       "      <td>2174072</td>\n",
       "      <td>1</td>\n",
       "    </tr>\n",
       "    <tr>\n",
       "      <th>583640</th>\n",
       "      <td>2174075</td>\n",
       "      <td>1</td>\n",
       "    </tr>\n",
       "    <tr>\n",
       "      <th>583641</th>\n",
       "      <td>2174083</td>\n",
       "      <td>1</td>\n",
       "    </tr>\n",
       "  </tbody>\n",
       "</table>\n",
       "<p>583642 rows × 2 columns</p>\n",
       "</div>"
      ],
      "text/plain": [
       "        CustomerID  F\n",
       "0                0  1\n",
       "1                1  1\n",
       "2                8  1\n",
       "3               16  1\n",
       "4               18  1\n",
       "...            ... ..\n",
       "583637     2174065  1\n",
       "583638     2174066  1\n",
       "583639     2174072  1\n",
       "583640     2174075  1\n",
       "583641     2174083  1\n",
       "\n",
       "[583642 rows x 2 columns]"
      ]
     },
     "execution_count": 19,
     "metadata": {},
     "output_type": "execute_result"
    }
   ],
   "source": [
    "F = F[['CustomerID','F']]\n",
    "F"
   ]
  },
  {
   "cell_type": "code",
   "execution_count": 20,
   "metadata": {},
   "outputs": [],
   "source": [
    "M = df.groupby('CustomerID').agg({'SalesAmount':'sum'}).reset_index()"
   ]
  },
  {
   "cell_type": "code",
   "execution_count": 21,
   "metadata": {},
   "outputs": [
    {
     "data": {
      "text/html": [
       "<div>\n",
       "<style scoped>\n",
       "    .dataframe tbody tr th:only-of-type {\n",
       "        vertical-align: middle;\n",
       "    }\n",
       "\n",
       "    .dataframe tbody tr th {\n",
       "        vertical-align: top;\n",
       "    }\n",
       "\n",
       "    .dataframe thead th {\n",
       "        text-align: right;\n",
       "    }\n",
       "</style>\n",
       "<table border=\"1\" class=\"dataframe\">\n",
       "  <thead>\n",
       "    <tr style=\"text-align: right;\">\n",
       "      <th></th>\n",
       "      <th>CustomerID</th>\n",
       "      <th>SalesAmount</th>\n",
       "    </tr>\n",
       "  </thead>\n",
       "  <tbody>\n",
       "    <tr>\n",
       "      <th>0</th>\n",
       "      <td>0</td>\n",
       "      <td>411663</td>\n",
       "    </tr>\n",
       "    <tr>\n",
       "      <th>1</th>\n",
       "      <td>1</td>\n",
       "      <td>105503</td>\n",
       "    </tr>\n",
       "    <tr>\n",
       "      <th>2</th>\n",
       "      <td>8</td>\n",
       "      <td>1098496</td>\n",
       "    </tr>\n",
       "    <tr>\n",
       "      <th>3</th>\n",
       "      <td>16</td>\n",
       "      <td>286558</td>\n",
       "    </tr>\n",
       "    <tr>\n",
       "      <th>4</th>\n",
       "      <td>18</td>\n",
       "      <td>287492</td>\n",
       "    </tr>\n",
       "    <tr>\n",
       "      <th>...</th>\n",
       "      <td>...</td>\n",
       "      <td>...</td>\n",
       "    </tr>\n",
       "    <tr>\n",
       "      <th>583637</th>\n",
       "      <td>2174065</td>\n",
       "      <td>138943</td>\n",
       "    </tr>\n",
       "    <tr>\n",
       "      <th>583638</th>\n",
       "      <td>2174066</td>\n",
       "      <td>143685</td>\n",
       "    </tr>\n",
       "    <tr>\n",
       "      <th>583639</th>\n",
       "      <td>2174072</td>\n",
       "      <td>953618</td>\n",
       "    </tr>\n",
       "    <tr>\n",
       "      <th>583640</th>\n",
       "      <td>2174075</td>\n",
       "      <td>262489</td>\n",
       "    </tr>\n",
       "    <tr>\n",
       "      <th>583641</th>\n",
       "      <td>2174083</td>\n",
       "      <td>185271</td>\n",
       "    </tr>\n",
       "  </tbody>\n",
       "</table>\n",
       "<p>583642 rows × 2 columns</p>\n",
       "</div>"
      ],
      "text/plain": [
       "        CustomerID  SalesAmount\n",
       "0                0       411663\n",
       "1                1       105503\n",
       "2                8      1098496\n",
       "3               16       286558\n",
       "4               18       287492\n",
       "...            ...          ...\n",
       "583637     2174065       138943\n",
       "583638     2174066       143685\n",
       "583639     2174072       953618\n",
       "583640     2174075       262489\n",
       "583641     2174083       185271\n",
       "\n",
       "[583642 rows x 2 columns]"
      ]
     },
     "execution_count": 21,
     "metadata": {},
     "output_type": "execute_result"
    }
   ],
   "source": [
    "M"
   ]
  },
  {
   "cell_type": "code",
   "execution_count": 22,
   "metadata": {},
   "outputs": [],
   "source": [
    "M_1 = M"
   ]
  },
  {
   "cell_type": "code",
   "execution_count": 23,
   "metadata": {},
   "outputs": [
    {
     "name": "stdout",
     "output_type": "stream",
     "text": [
      "Q1 (25th percentile): 201289.0\n",
      "Q2 (median): 547735.4173003314\n",
      "Q3 (75th percentile): 567481.25\n",
      "Q4 (max): 133774476\n"
     ]
    }
   ],
   "source": [
    "Q1_M = M['SalesAmount'].quantile(0.25)\n",
    "Q2_M = M['SalesAmount'].mean()\n",
    "Q3_M=  M['SalesAmount'].quantile(0.75)\n",
    "Q4_M = M['SalesAmount'].max()\n",
    "print(\"Q1 (25th percentile):\", Q1_M)\n",
    "print(\"Q2 (median):\", Q2_M)\n",
    "print(\"Q3 (75th percentile):\", Q3_M)\n",
    "print(\"Q4 (max):\", Q4_M)"
   ]
  },
  {
   "cell_type": "code",
   "execution_count": 24,
   "metadata": {},
   "outputs": [],
   "source": [
    "M_seprate = lambda x: 1 if x < Q1_M else(2 if x >=Q1_M and x<Q2_M\n",
    "                                        else(3 if x >=Q2_M and x<Q3_M\n",
    "                                             else(4)))"
   ]
  },
  {
   "cell_type": "code",
   "execution_count": 25,
   "metadata": {},
   "outputs": [],
   "source": [
    "M['M'] = M['SalesAmount'].apply(M_seprate)"
   ]
  },
  {
   "cell_type": "code",
   "execution_count": 26,
   "metadata": {},
   "outputs": [],
   "source": [
    "M = M[['CustomerID','M']]"
   ]
  },
  {
   "cell_type": "code",
   "execution_count": 27,
   "metadata": {},
   "outputs": [
    {
     "data": {
      "text/html": [
       "<div>\n",
       "<style scoped>\n",
       "    .dataframe tbody tr th:only-of-type {\n",
       "        vertical-align: middle;\n",
       "    }\n",
       "\n",
       "    .dataframe tbody tr th {\n",
       "        vertical-align: top;\n",
       "    }\n",
       "\n",
       "    .dataframe thead th {\n",
       "        text-align: right;\n",
       "    }\n",
       "</style>\n",
       "<table border=\"1\" class=\"dataframe\">\n",
       "  <thead>\n",
       "    <tr style=\"text-align: right;\">\n",
       "      <th></th>\n",
       "      <th>CustomerID</th>\n",
       "      <th>M</th>\n",
       "    </tr>\n",
       "  </thead>\n",
       "  <tbody>\n",
       "    <tr>\n",
       "      <th>0</th>\n",
       "      <td>0</td>\n",
       "      <td>2</td>\n",
       "    </tr>\n",
       "    <tr>\n",
       "      <th>1</th>\n",
       "      <td>1</td>\n",
       "      <td>1</td>\n",
       "    </tr>\n",
       "    <tr>\n",
       "      <th>2</th>\n",
       "      <td>8</td>\n",
       "      <td>4</td>\n",
       "    </tr>\n",
       "    <tr>\n",
       "      <th>3</th>\n",
       "      <td>16</td>\n",
       "      <td>2</td>\n",
       "    </tr>\n",
       "    <tr>\n",
       "      <th>4</th>\n",
       "      <td>18</td>\n",
       "      <td>2</td>\n",
       "    </tr>\n",
       "    <tr>\n",
       "      <th>...</th>\n",
       "      <td>...</td>\n",
       "      <td>...</td>\n",
       "    </tr>\n",
       "    <tr>\n",
       "      <th>583637</th>\n",
       "      <td>2174065</td>\n",
       "      <td>1</td>\n",
       "    </tr>\n",
       "    <tr>\n",
       "      <th>583638</th>\n",
       "      <td>2174066</td>\n",
       "      <td>1</td>\n",
       "    </tr>\n",
       "    <tr>\n",
       "      <th>583639</th>\n",
       "      <td>2174072</td>\n",
       "      <td>4</td>\n",
       "    </tr>\n",
       "    <tr>\n",
       "      <th>583640</th>\n",
       "      <td>2174075</td>\n",
       "      <td>2</td>\n",
       "    </tr>\n",
       "    <tr>\n",
       "      <th>583641</th>\n",
       "      <td>2174083</td>\n",
       "      <td>1</td>\n",
       "    </tr>\n",
       "  </tbody>\n",
       "</table>\n",
       "<p>583642 rows × 2 columns</p>\n",
       "</div>"
      ],
      "text/plain": [
       "        CustomerID  M\n",
       "0                0  2\n",
       "1                1  1\n",
       "2                8  4\n",
       "3               16  2\n",
       "4               18  2\n",
       "...            ... ..\n",
       "583637     2174065  1\n",
       "583638     2174066  1\n",
       "583639     2174072  4\n",
       "583640     2174075  2\n",
       "583641     2174083  1\n",
       "\n",
       "[583642 rows x 2 columns]"
      ]
     },
     "execution_count": 27,
     "metadata": {},
     "output_type": "execute_result"
    }
   ],
   "source": [
    "M"
   ]
  },
  {
   "cell_type": "code",
   "execution_count": 28,
   "metadata": {},
   "outputs": [
    {
     "data": {
      "text/html": [
       "<div>\n",
       "<style scoped>\n",
       "    .dataframe tbody tr th:only-of-type {\n",
       "        vertical-align: middle;\n",
       "    }\n",
       "\n",
       "    .dataframe tbody tr th {\n",
       "        vertical-align: top;\n",
       "    }\n",
       "\n",
       "    .dataframe thead th {\n",
       "        text-align: right;\n",
       "    }\n",
       "</style>\n",
       "<table border=\"1\" class=\"dataframe\">\n",
       "  <thead>\n",
       "    <tr style=\"text-align: right;\">\n",
       "      <th></th>\n",
       "      <th>CustomerID</th>\n",
       "      <th>R</th>\n",
       "      <th>F</th>\n",
       "      <th>M</th>\n",
       "    </tr>\n",
       "  </thead>\n",
       "  <tbody>\n",
       "    <tr>\n",
       "      <th>0</th>\n",
       "      <td>0</td>\n",
       "      <td>1</td>\n",
       "      <td>1</td>\n",
       "      <td>2</td>\n",
       "    </tr>\n",
       "    <tr>\n",
       "      <th>1</th>\n",
       "      <td>1</td>\n",
       "      <td>2</td>\n",
       "      <td>1</td>\n",
       "      <td>1</td>\n",
       "    </tr>\n",
       "    <tr>\n",
       "      <th>2</th>\n",
       "      <td>8</td>\n",
       "      <td>3</td>\n",
       "      <td>1</td>\n",
       "      <td>4</td>\n",
       "    </tr>\n",
       "    <tr>\n",
       "      <th>3</th>\n",
       "      <td>16</td>\n",
       "      <td>3</td>\n",
       "      <td>1</td>\n",
       "      <td>2</td>\n",
       "    </tr>\n",
       "    <tr>\n",
       "      <th>4</th>\n",
       "      <td>18</td>\n",
       "      <td>1</td>\n",
       "      <td>1</td>\n",
       "      <td>2</td>\n",
       "    </tr>\n",
       "    <tr>\n",
       "      <th>...</th>\n",
       "      <td>...</td>\n",
       "      <td>...</td>\n",
       "      <td>...</td>\n",
       "      <td>...</td>\n",
       "    </tr>\n",
       "    <tr>\n",
       "      <th>583637</th>\n",
       "      <td>2174065</td>\n",
       "      <td>2</td>\n",
       "      <td>1</td>\n",
       "      <td>1</td>\n",
       "    </tr>\n",
       "    <tr>\n",
       "      <th>583638</th>\n",
       "      <td>2174066</td>\n",
       "      <td>4</td>\n",
       "      <td>1</td>\n",
       "      <td>1</td>\n",
       "    </tr>\n",
       "    <tr>\n",
       "      <th>583639</th>\n",
       "      <td>2174072</td>\n",
       "      <td>4</td>\n",
       "      <td>1</td>\n",
       "      <td>4</td>\n",
       "    </tr>\n",
       "    <tr>\n",
       "      <th>583640</th>\n",
       "      <td>2174075</td>\n",
       "      <td>4</td>\n",
       "      <td>1</td>\n",
       "      <td>2</td>\n",
       "    </tr>\n",
       "    <tr>\n",
       "      <th>583641</th>\n",
       "      <td>2174083</td>\n",
       "      <td>1</td>\n",
       "      <td>1</td>\n",
       "      <td>1</td>\n",
       "    </tr>\n",
       "  </tbody>\n",
       "</table>\n",
       "<p>583642 rows × 4 columns</p>\n",
       "</div>"
      ],
      "text/plain": [
       "        CustomerID  R  F  M\n",
       "0                0  1  1  2\n",
       "1                1  2  1  1\n",
       "2                8  3  1  4\n",
       "3               16  3  1  2\n",
       "4               18  1  1  2\n",
       "...            ... .. .. ..\n",
       "583637     2174065  2  1  1\n",
       "583638     2174066  4  1  1\n",
       "583639     2174072  4  1  4\n",
       "583640     2174075  4  1  2\n",
       "583641     2174083  1  1  1\n",
       "\n",
       "[583642 rows x 4 columns]"
      ]
     },
     "execution_count": 28,
     "metadata": {},
     "output_type": "execute_result"
    }
   ],
   "source": [
    "RFM = R.merge(F, on='CustomerID', how = 'inner').merge(M, on = 'CustomerID', how = 'inner')\n",
    "RFM"
   ]
  },
  {
   "cell_type": "code",
   "execution_count": 29,
   "metadata": {},
   "outputs": [
    {
     "data": {
      "text/html": [
       "<div>\n",
       "<style scoped>\n",
       "    .dataframe tbody tr th:only-of-type {\n",
       "        vertical-align: middle;\n",
       "    }\n",
       "\n",
       "    .dataframe tbody tr th {\n",
       "        vertical-align: top;\n",
       "    }\n",
       "\n",
       "    .dataframe thead th {\n",
       "        text-align: right;\n",
       "    }\n",
       "</style>\n",
       "<table border=\"1\" class=\"dataframe\">\n",
       "  <thead>\n",
       "    <tr style=\"text-align: right;\">\n",
       "      <th></th>\n",
       "      <th>CustomerID</th>\n",
       "      <th>R</th>\n",
       "      <th>F</th>\n",
       "      <th>M</th>\n",
       "      <th>RFM</th>\n",
       "    </tr>\n",
       "  </thead>\n",
       "  <tbody>\n",
       "    <tr>\n",
       "      <th>0</th>\n",
       "      <td>0</td>\n",
       "      <td>1</td>\n",
       "      <td>1</td>\n",
       "      <td>2</td>\n",
       "      <td>112</td>\n",
       "    </tr>\n",
       "    <tr>\n",
       "      <th>1</th>\n",
       "      <td>1</td>\n",
       "      <td>2</td>\n",
       "      <td>1</td>\n",
       "      <td>1</td>\n",
       "      <td>211</td>\n",
       "    </tr>\n",
       "    <tr>\n",
       "      <th>2</th>\n",
       "      <td>8</td>\n",
       "      <td>3</td>\n",
       "      <td>1</td>\n",
       "      <td>4</td>\n",
       "      <td>314</td>\n",
       "    </tr>\n",
       "    <tr>\n",
       "      <th>3</th>\n",
       "      <td>16</td>\n",
       "      <td>3</td>\n",
       "      <td>1</td>\n",
       "      <td>2</td>\n",
       "      <td>312</td>\n",
       "    </tr>\n",
       "    <tr>\n",
       "      <th>4</th>\n",
       "      <td>18</td>\n",
       "      <td>1</td>\n",
       "      <td>1</td>\n",
       "      <td>2</td>\n",
       "      <td>112</td>\n",
       "    </tr>\n",
       "    <tr>\n",
       "      <th>...</th>\n",
       "      <td>...</td>\n",
       "      <td>...</td>\n",
       "      <td>...</td>\n",
       "      <td>...</td>\n",
       "      <td>...</td>\n",
       "    </tr>\n",
       "    <tr>\n",
       "      <th>583637</th>\n",
       "      <td>2174065</td>\n",
       "      <td>2</td>\n",
       "      <td>1</td>\n",
       "      <td>1</td>\n",
       "      <td>211</td>\n",
       "    </tr>\n",
       "    <tr>\n",
       "      <th>583638</th>\n",
       "      <td>2174066</td>\n",
       "      <td>4</td>\n",
       "      <td>1</td>\n",
       "      <td>1</td>\n",
       "      <td>411</td>\n",
       "    </tr>\n",
       "    <tr>\n",
       "      <th>583639</th>\n",
       "      <td>2174072</td>\n",
       "      <td>4</td>\n",
       "      <td>1</td>\n",
       "      <td>4</td>\n",
       "      <td>414</td>\n",
       "    </tr>\n",
       "    <tr>\n",
       "      <th>583640</th>\n",
       "      <td>2174075</td>\n",
       "      <td>4</td>\n",
       "      <td>1</td>\n",
       "      <td>2</td>\n",
       "      <td>412</td>\n",
       "    </tr>\n",
       "    <tr>\n",
       "      <th>583641</th>\n",
       "      <td>2174083</td>\n",
       "      <td>1</td>\n",
       "      <td>1</td>\n",
       "      <td>1</td>\n",
       "      <td>111</td>\n",
       "    </tr>\n",
       "  </tbody>\n",
       "</table>\n",
       "<p>583642 rows × 5 columns</p>\n",
       "</div>"
      ],
      "text/plain": [
       "        CustomerID  R  F  M  RFM\n",
       "0                0  1  1  2  112\n",
       "1                1  2  1  1  211\n",
       "2                8  3  1  4  314\n",
       "3               16  3  1  2  312\n",
       "4               18  1  1  2  112\n",
       "...            ... .. .. ..  ...\n",
       "583637     2174065  2  1  1  211\n",
       "583638     2174066  4  1  1  411\n",
       "583639     2174072  4  1  4  414\n",
       "583640     2174075  4  1  2  412\n",
       "583641     2174083  1  1  1  111\n",
       "\n",
       "[583642 rows x 5 columns]"
      ]
     },
     "execution_count": 29,
     "metadata": {},
     "output_type": "execute_result"
    }
   ],
   "source": [
    "RFM['RFM'] = RFM[['R','F','M']].apply(lambda x: ''.join(map(str,x)), axis = 1)\n",
    "RFM"
   ]
  },
  {
   "cell_type": "code",
   "execution_count": 43,
   "metadata": {},
   "outputs": [
    {
     "data": {
      "text/plain": [
       "array(['112', '211', '314', '312', '411', '412', '311', '212', '111',\n",
       "       '414', '114', '214', '424', '213', '313', '113', '413', '324',\n",
       "       '434', '224', '444', '234', '334', '124', '244', '322'],\n",
       "      dtype=object)"
      ]
     },
     "execution_count": 43,
     "metadata": {},
     "output_type": "execute_result"
    }
   ],
   "source": [
    "RFM['RFM'].unique()"
   ]
  },
  {
   "cell_type": "code",
   "execution_count": null,
   "metadata": {},
   "outputs": [],
   "source": [
    "rfm = pd.read_csv('D:\\\\study\\\\data\\\\rfm\\\\rfm_segment.csv')\n"
   ]
  },
  {
   "cell_type": "code",
   "execution_count": null,
   "metadata": {},
   "outputs": [],
   "source": [
    "rfm['RFM'] = rfm['RFM'].astype(str)"
   ]
  },
  {
   "cell_type": "code",
   "execution_count": 32,
   "metadata": {},
   "outputs": [],
   "source": [
    "RFM_final = RFM.merge(rfm,on='RFM',how='inner') "
   ]
  },
  {
   "cell_type": "code",
   "execution_count": 33,
   "metadata": {},
   "outputs": [
    {
     "data": {
      "text/html": [
       "<div>\n",
       "<style scoped>\n",
       "    .dataframe tbody tr th:only-of-type {\n",
       "        vertical-align: middle;\n",
       "    }\n",
       "\n",
       "    .dataframe tbody tr th {\n",
       "        vertical-align: top;\n",
       "    }\n",
       "\n",
       "    .dataframe thead th {\n",
       "        text-align: right;\n",
       "    }\n",
       "</style>\n",
       "<table border=\"1\" class=\"dataframe\">\n",
       "  <thead>\n",
       "    <tr style=\"text-align: right;\">\n",
       "      <th></th>\n",
       "      <th>CustomerID</th>\n",
       "      <th>R</th>\n",
       "      <th>F</th>\n",
       "      <th>M</th>\n",
       "      <th>RFM</th>\n",
       "      <th>segment</th>\n",
       "    </tr>\n",
       "  </thead>\n",
       "  <tbody>\n",
       "    <tr>\n",
       "      <th>0</th>\n",
       "      <td>0</td>\n",
       "      <td>1</td>\n",
       "      <td>1</td>\n",
       "      <td>2</td>\n",
       "      <td>112</td>\n",
       "      <td>Lost</td>\n",
       "    </tr>\n",
       "    <tr>\n",
       "      <th>1</th>\n",
       "      <td>1</td>\n",
       "      <td>2</td>\n",
       "      <td>1</td>\n",
       "      <td>1</td>\n",
       "      <td>211</td>\n",
       "      <td>About to sleep</td>\n",
       "    </tr>\n",
       "    <tr>\n",
       "      <th>2</th>\n",
       "      <td>16</td>\n",
       "      <td>3</td>\n",
       "      <td>1</td>\n",
       "      <td>2</td>\n",
       "      <td>312</td>\n",
       "      <td>Promising</td>\n",
       "    </tr>\n",
       "    <tr>\n",
       "      <th>3</th>\n",
       "      <td>18</td>\n",
       "      <td>1</td>\n",
       "      <td>1</td>\n",
       "      <td>2</td>\n",
       "      <td>112</td>\n",
       "      <td>Lost</td>\n",
       "    </tr>\n",
       "    <tr>\n",
       "      <th>4</th>\n",
       "      <td>25</td>\n",
       "      <td>4</td>\n",
       "      <td>1</td>\n",
       "      <td>1</td>\n",
       "      <td>411</td>\n",
       "      <td>New customer</td>\n",
       "    </tr>\n",
       "    <tr>\n",
       "      <th>...</th>\n",
       "      <td>...</td>\n",
       "      <td>...</td>\n",
       "      <td>...</td>\n",
       "      <td>...</td>\n",
       "      <td>...</td>\n",
       "      <td>...</td>\n",
       "    </tr>\n",
       "    <tr>\n",
       "      <th>496885</th>\n",
       "      <td>2174065</td>\n",
       "      <td>2</td>\n",
       "      <td>1</td>\n",
       "      <td>1</td>\n",
       "      <td>211</td>\n",
       "      <td>About to sleep</td>\n",
       "    </tr>\n",
       "    <tr>\n",
       "      <th>496886</th>\n",
       "      <td>2174066</td>\n",
       "      <td>4</td>\n",
       "      <td>1</td>\n",
       "      <td>1</td>\n",
       "      <td>411</td>\n",
       "      <td>New customer</td>\n",
       "    </tr>\n",
       "    <tr>\n",
       "      <th>496887</th>\n",
       "      <td>2174072</td>\n",
       "      <td>4</td>\n",
       "      <td>1</td>\n",
       "      <td>4</td>\n",
       "      <td>414</td>\n",
       "      <td>New customer</td>\n",
       "    </tr>\n",
       "    <tr>\n",
       "      <th>496888</th>\n",
       "      <td>2174075</td>\n",
       "      <td>4</td>\n",
       "      <td>1</td>\n",
       "      <td>2</td>\n",
       "      <td>412</td>\n",
       "      <td>New customer</td>\n",
       "    </tr>\n",
       "    <tr>\n",
       "      <th>496889</th>\n",
       "      <td>2174083</td>\n",
       "      <td>1</td>\n",
       "      <td>1</td>\n",
       "      <td>1</td>\n",
       "      <td>111</td>\n",
       "      <td>Lost</td>\n",
       "    </tr>\n",
       "  </tbody>\n",
       "</table>\n",
       "<p>496890 rows × 6 columns</p>\n",
       "</div>"
      ],
      "text/plain": [
       "        CustomerID  R  F  M  RFM         segment\n",
       "0                0  1  1  2  112            Lost\n",
       "1                1  2  1  1  211  About to sleep\n",
       "2               16  3  1  2  312      Promising \n",
       "3               18  1  1  2  112            Lost\n",
       "4               25  4  1  1  411    New customer\n",
       "...            ... .. .. ..  ...             ...\n",
       "496885     2174065  2  1  1  211  About to sleep\n",
       "496886     2174066  4  1  1  411    New customer\n",
       "496887     2174072  4  1  4  414    New customer\n",
       "496888     2174075  4  1  2  412    New customer\n",
       "496889     2174083  1  1  1  111            Lost\n",
       "\n",
       "[496890 rows x 6 columns]"
      ]
     },
     "execution_count": 33,
     "metadata": {},
     "output_type": "execute_result"
    }
   ],
   "source": [
    "RFM_final "
   ]
  },
  {
   "cell_type": "code",
   "execution_count": 34,
   "metadata": {},
   "outputs": [],
   "source": [
    "RFM_final = RFM_final.drop(RFM_final.index[0])"
   ]
  },
  {
   "cell_type": "code",
   "execution_count": 44,
   "metadata": {},
   "outputs": [
    {
     "data": {
      "text/html": [
       "<div>\n",
       "<style scoped>\n",
       "    .dataframe tbody tr th:only-of-type {\n",
       "        vertical-align: middle;\n",
       "    }\n",
       "\n",
       "    .dataframe tbody tr th {\n",
       "        vertical-align: top;\n",
       "    }\n",
       "\n",
       "    .dataframe thead th {\n",
       "        text-align: right;\n",
       "    }\n",
       "</style>\n",
       "<table border=\"1\" class=\"dataframe\">\n",
       "  <thead>\n",
       "    <tr style=\"text-align: right;\">\n",
       "      <th></th>\n",
       "      <th>CustomerID</th>\n",
       "      <th>R</th>\n",
       "      <th>F</th>\n",
       "      <th>M</th>\n",
       "      <th>RFM</th>\n",
       "      <th>segment</th>\n",
       "    </tr>\n",
       "  </thead>\n",
       "  <tbody>\n",
       "    <tr>\n",
       "      <th>1</th>\n",
       "      <td>1</td>\n",
       "      <td>2</td>\n",
       "      <td>1</td>\n",
       "      <td>1</td>\n",
       "      <td>211</td>\n",
       "      <td>About to sleep</td>\n",
       "    </tr>\n",
       "    <tr>\n",
       "      <th>2</th>\n",
       "      <td>16</td>\n",
       "      <td>3</td>\n",
       "      <td>1</td>\n",
       "      <td>2</td>\n",
       "      <td>312</td>\n",
       "      <td>Promising</td>\n",
       "    </tr>\n",
       "    <tr>\n",
       "      <th>3</th>\n",
       "      <td>18</td>\n",
       "      <td>1</td>\n",
       "      <td>1</td>\n",
       "      <td>2</td>\n",
       "      <td>112</td>\n",
       "      <td>Lost</td>\n",
       "    </tr>\n",
       "    <tr>\n",
       "      <th>4</th>\n",
       "      <td>25</td>\n",
       "      <td>4</td>\n",
       "      <td>1</td>\n",
       "      <td>1</td>\n",
       "      <td>411</td>\n",
       "      <td>New customer</td>\n",
       "    </tr>\n",
       "    <tr>\n",
       "      <th>5</th>\n",
       "      <td>26</td>\n",
       "      <td>4</td>\n",
       "      <td>1</td>\n",
       "      <td>2</td>\n",
       "      <td>412</td>\n",
       "      <td>New customer</td>\n",
       "    </tr>\n",
       "    <tr>\n",
       "      <th>...</th>\n",
       "      <td>...</td>\n",
       "      <td>...</td>\n",
       "      <td>...</td>\n",
       "      <td>...</td>\n",
       "      <td>...</td>\n",
       "      <td>...</td>\n",
       "    </tr>\n",
       "    <tr>\n",
       "      <th>496885</th>\n",
       "      <td>2174065</td>\n",
       "      <td>2</td>\n",
       "      <td>1</td>\n",
       "      <td>1</td>\n",
       "      <td>211</td>\n",
       "      <td>About to sleep</td>\n",
       "    </tr>\n",
       "    <tr>\n",
       "      <th>496886</th>\n",
       "      <td>2174066</td>\n",
       "      <td>4</td>\n",
       "      <td>1</td>\n",
       "      <td>1</td>\n",
       "      <td>411</td>\n",
       "      <td>New customer</td>\n",
       "    </tr>\n",
       "    <tr>\n",
       "      <th>496887</th>\n",
       "      <td>2174072</td>\n",
       "      <td>4</td>\n",
       "      <td>1</td>\n",
       "      <td>4</td>\n",
       "      <td>414</td>\n",
       "      <td>New customer</td>\n",
       "    </tr>\n",
       "    <tr>\n",
       "      <th>496888</th>\n",
       "      <td>2174075</td>\n",
       "      <td>4</td>\n",
       "      <td>1</td>\n",
       "      <td>2</td>\n",
       "      <td>412</td>\n",
       "      <td>New customer</td>\n",
       "    </tr>\n",
       "    <tr>\n",
       "      <th>496889</th>\n",
       "      <td>2174083</td>\n",
       "      <td>1</td>\n",
       "      <td>1</td>\n",
       "      <td>1</td>\n",
       "      <td>111</td>\n",
       "      <td>Lost</td>\n",
       "    </tr>\n",
       "  </tbody>\n",
       "</table>\n",
       "<p>496889 rows × 6 columns</p>\n",
       "</div>"
      ],
      "text/plain": [
       "        CustomerID  R  F  M  RFM         segment\n",
       "1                1  2  1  1  211  About to sleep\n",
       "2               16  3  1  2  312      Promising \n",
       "3               18  1  1  2  112            Lost\n",
       "4               25  4  1  1  411    New customer\n",
       "5               26  4  1  2  412    New customer\n",
       "...            ... .. .. ..  ...             ...\n",
       "496885     2174065  2  1  1  211  About to sleep\n",
       "496886     2174066  4  1  1  411    New customer\n",
       "496887     2174072  4  1  4  414    New customer\n",
       "496888     2174075  4  1  2  412    New customer\n",
       "496889     2174083  1  1  1  111            Lost\n",
       "\n",
       "[496889 rows x 6 columns]"
      ]
     },
     "execution_count": 44,
     "metadata": {},
     "output_type": "execute_result"
    }
   ],
   "source": [
    "RFM_final"
   ]
  },
  {
   "cell_type": "code",
   "execution_count": null,
   "metadata": {},
   "outputs": [],
   "source": [
    "import plotly.express as px\n"
   ]
  },
  {
   "cell_type": "code",
   "execution_count": null,
   "metadata": {},
   "outputs": [],
   "source": [
    "segment_count = RFM_final.groupby('segment')['CustomerID'].count().reset_index()\n",
    "segment_count.rename({'CustomerID':'Total Customer'})\n",
    "segment_count"
   ]
  },
  {
   "cell_type": "code",
   "execution_count": 47,
   "metadata": {},
   "outputs": [],
   "source": [
    "segment_count= segment_count.rename(columns={'CustomerID':'Total Customer'})\n"
   ]
  },
  {
   "cell_type": "code",
   "execution_count": 48,
   "metadata": {},
   "outputs": [
    {
     "data": {
      "text/html": [
       "<div>\n",
       "<style scoped>\n",
       "    .dataframe tbody tr th:only-of-type {\n",
       "        vertical-align: middle;\n",
       "    }\n",
       "\n",
       "    .dataframe tbody tr th {\n",
       "        vertical-align: top;\n",
       "    }\n",
       "\n",
       "    .dataframe thead th {\n",
       "        text-align: right;\n",
       "    }\n",
       "</style>\n",
       "<table border=\"1\" class=\"dataframe\">\n",
       "  <thead>\n",
       "    <tr style=\"text-align: right;\">\n",
       "      <th></th>\n",
       "      <th>segment</th>\n",
       "      <th>Total Customer</th>\n",
       "    </tr>\n",
       "  </thead>\n",
       "  <tbody>\n",
       "    <tr>\n",
       "      <th>0</th>\n",
       "      <td>About to sleep</td>\n",
       "      <td>115904</td>\n",
       "    </tr>\n",
       "    <tr>\n",
       "      <th>1</th>\n",
       "      <td>At risk</td>\n",
       "      <td>2</td>\n",
       "    </tr>\n",
       "    <tr>\n",
       "      <th>2</th>\n",
       "      <td>Champions</td>\n",
       "      <td>16</td>\n",
       "    </tr>\n",
       "    <tr>\n",
       "      <th>3</th>\n",
       "      <td>Lost</td>\n",
       "      <td>132532</td>\n",
       "    </tr>\n",
       "    <tr>\n",
       "      <th>4</th>\n",
       "      <td>Loyal Customers</td>\n",
       "      <td>1</td>\n",
       "    </tr>\n",
       "    <tr>\n",
       "      <th>5</th>\n",
       "      <td>New customer</td>\n",
       "      <td>142711</td>\n",
       "    </tr>\n",
       "    <tr>\n",
       "      <th>6</th>\n",
       "      <td>Potential Loyal</td>\n",
       "      <td>7</td>\n",
       "    </tr>\n",
       "    <tr>\n",
       "      <th>7</th>\n",
       "      <td>Promising</td>\n",
       "      <td>105716</td>\n",
       "    </tr>\n",
       "  </tbody>\n",
       "</table>\n",
       "</div>"
      ],
      "text/plain": [
       "           segment  Total Customer\n",
       "0   About to sleep          115904\n",
       "1          At risk               2\n",
       "2        Champions              16\n",
       "3             Lost          132532\n",
       "4  Loyal Customers               1\n",
       "5     New customer          142711\n",
       "6  Potential Loyal               7\n",
       "7       Promising           105716"
      ]
     },
     "execution_count": 48,
     "metadata": {},
     "output_type": "execute_result"
    }
   ],
   "source": [
    "segment_count"
   ]
  },
  {
   "cell_type": "code",
   "execution_count": 49,
   "metadata": {},
   "outputs": [
    {
     "data": {
      "application/vnd.plotly.v1+json": {
       "config": {
        "plotlyServerURL": "https://plot.ly"
       },
       "data": [
        {
         "alignmentgroup": "True",
         "hovertemplate": "segment=%{x}<br>Total Customer=%{y}<extra></extra>",
         "legendgroup": "",
         "marker": {
          "color": "#636efa",
          "pattern": {
           "shape": ""
          }
         },
         "name": "",
         "offsetgroup": "",
         "orientation": "v",
         "showlegend": false,
         "textposition": "auto",
         "type": "bar",
         "x": [
          "About to sleep",
          "At risk",
          "Champions",
          "Lost",
          "Loyal Customers",
          "New customer",
          "Potential Loyal",
          "Promising "
         ],
         "xaxis": "x",
         "y": [
          115904,
          2,
          16,
          132532,
          1,
          142711,
          7,
          105716
         ],
         "yaxis": "y"
        }
       ],
       "layout": {
        "barmode": "relative",
        "legend": {
         "tracegroupgap": 0
        },
        "template": {
         "data": {
          "bar": [
           {
            "error_x": {
             "color": "#2a3f5f"
            },
            "error_y": {
             "color": "#2a3f5f"
            },
            "marker": {
             "line": {
              "color": "#E5ECF6",
              "width": 0.5
             },
             "pattern": {
              "fillmode": "overlay",
              "size": 10,
              "solidity": 0.2
             }
            },
            "type": "bar"
           }
          ],
          "barpolar": [
           {
            "marker": {
             "line": {
              "color": "#E5ECF6",
              "width": 0.5
             },
             "pattern": {
              "fillmode": "overlay",
              "size": 10,
              "solidity": 0.2
             }
            },
            "type": "barpolar"
           }
          ],
          "carpet": [
           {
            "aaxis": {
             "endlinecolor": "#2a3f5f",
             "gridcolor": "white",
             "linecolor": "white",
             "minorgridcolor": "white",
             "startlinecolor": "#2a3f5f"
            },
            "baxis": {
             "endlinecolor": "#2a3f5f",
             "gridcolor": "white",
             "linecolor": "white",
             "minorgridcolor": "white",
             "startlinecolor": "#2a3f5f"
            },
            "type": "carpet"
           }
          ],
          "choropleth": [
           {
            "colorbar": {
             "outlinewidth": 0,
             "ticks": ""
            },
            "type": "choropleth"
           }
          ],
          "contour": [
           {
            "colorbar": {
             "outlinewidth": 0,
             "ticks": ""
            },
            "colorscale": [
             [
              0,
              "#0d0887"
             ],
             [
              0.1111111111111111,
              "#46039f"
             ],
             [
              0.2222222222222222,
              "#7201a8"
             ],
             [
              0.3333333333333333,
              "#9c179e"
             ],
             [
              0.4444444444444444,
              "#bd3786"
             ],
             [
              0.5555555555555556,
              "#d8576b"
             ],
             [
              0.6666666666666666,
              "#ed7953"
             ],
             [
              0.7777777777777778,
              "#fb9f3a"
             ],
             [
              0.8888888888888888,
              "#fdca26"
             ],
             [
              1,
              "#f0f921"
             ]
            ],
            "type": "contour"
           }
          ],
          "contourcarpet": [
           {
            "colorbar": {
             "outlinewidth": 0,
             "ticks": ""
            },
            "type": "contourcarpet"
           }
          ],
          "heatmap": [
           {
            "colorbar": {
             "outlinewidth": 0,
             "ticks": ""
            },
            "colorscale": [
             [
              0,
              "#0d0887"
             ],
             [
              0.1111111111111111,
              "#46039f"
             ],
             [
              0.2222222222222222,
              "#7201a8"
             ],
             [
              0.3333333333333333,
              "#9c179e"
             ],
             [
              0.4444444444444444,
              "#bd3786"
             ],
             [
              0.5555555555555556,
              "#d8576b"
             ],
             [
              0.6666666666666666,
              "#ed7953"
             ],
             [
              0.7777777777777778,
              "#fb9f3a"
             ],
             [
              0.8888888888888888,
              "#fdca26"
             ],
             [
              1,
              "#f0f921"
             ]
            ],
            "type": "heatmap"
           }
          ],
          "heatmapgl": [
           {
            "colorbar": {
             "outlinewidth": 0,
             "ticks": ""
            },
            "colorscale": [
             [
              0,
              "#0d0887"
             ],
             [
              0.1111111111111111,
              "#46039f"
             ],
             [
              0.2222222222222222,
              "#7201a8"
             ],
             [
              0.3333333333333333,
              "#9c179e"
             ],
             [
              0.4444444444444444,
              "#bd3786"
             ],
             [
              0.5555555555555556,
              "#d8576b"
             ],
             [
              0.6666666666666666,
              "#ed7953"
             ],
             [
              0.7777777777777778,
              "#fb9f3a"
             ],
             [
              0.8888888888888888,
              "#fdca26"
             ],
             [
              1,
              "#f0f921"
             ]
            ],
            "type": "heatmapgl"
           }
          ],
          "histogram": [
           {
            "marker": {
             "pattern": {
              "fillmode": "overlay",
              "size": 10,
              "solidity": 0.2
             }
            },
            "type": "histogram"
           }
          ],
          "histogram2d": [
           {
            "colorbar": {
             "outlinewidth": 0,
             "ticks": ""
            },
            "colorscale": [
             [
              0,
              "#0d0887"
             ],
             [
              0.1111111111111111,
              "#46039f"
             ],
             [
              0.2222222222222222,
              "#7201a8"
             ],
             [
              0.3333333333333333,
              "#9c179e"
             ],
             [
              0.4444444444444444,
              "#bd3786"
             ],
             [
              0.5555555555555556,
              "#d8576b"
             ],
             [
              0.6666666666666666,
              "#ed7953"
             ],
             [
              0.7777777777777778,
              "#fb9f3a"
             ],
             [
              0.8888888888888888,
              "#fdca26"
             ],
             [
              1,
              "#f0f921"
             ]
            ],
            "type": "histogram2d"
           }
          ],
          "histogram2dcontour": [
           {
            "colorbar": {
             "outlinewidth": 0,
             "ticks": ""
            },
            "colorscale": [
             [
              0,
              "#0d0887"
             ],
             [
              0.1111111111111111,
              "#46039f"
             ],
             [
              0.2222222222222222,
              "#7201a8"
             ],
             [
              0.3333333333333333,
              "#9c179e"
             ],
             [
              0.4444444444444444,
              "#bd3786"
             ],
             [
              0.5555555555555556,
              "#d8576b"
             ],
             [
              0.6666666666666666,
              "#ed7953"
             ],
             [
              0.7777777777777778,
              "#fb9f3a"
             ],
             [
              0.8888888888888888,
              "#fdca26"
             ],
             [
              1,
              "#f0f921"
             ]
            ],
            "type": "histogram2dcontour"
           }
          ],
          "mesh3d": [
           {
            "colorbar": {
             "outlinewidth": 0,
             "ticks": ""
            },
            "type": "mesh3d"
           }
          ],
          "parcoords": [
           {
            "line": {
             "colorbar": {
              "outlinewidth": 0,
              "ticks": ""
             }
            },
            "type": "parcoords"
           }
          ],
          "pie": [
           {
            "automargin": true,
            "type": "pie"
           }
          ],
          "scatter": [
           {
            "fillpattern": {
             "fillmode": "overlay",
             "size": 10,
             "solidity": 0.2
            },
            "type": "scatter"
           }
          ],
          "scatter3d": [
           {
            "line": {
             "colorbar": {
              "outlinewidth": 0,
              "ticks": ""
             }
            },
            "marker": {
             "colorbar": {
              "outlinewidth": 0,
              "ticks": ""
             }
            },
            "type": "scatter3d"
           }
          ],
          "scattercarpet": [
           {
            "marker": {
             "colorbar": {
              "outlinewidth": 0,
              "ticks": ""
             }
            },
            "type": "scattercarpet"
           }
          ],
          "scattergeo": [
           {
            "marker": {
             "colorbar": {
              "outlinewidth": 0,
              "ticks": ""
             }
            },
            "type": "scattergeo"
           }
          ],
          "scattergl": [
           {
            "marker": {
             "colorbar": {
              "outlinewidth": 0,
              "ticks": ""
             }
            },
            "type": "scattergl"
           }
          ],
          "scattermapbox": [
           {
            "marker": {
             "colorbar": {
              "outlinewidth": 0,
              "ticks": ""
             }
            },
            "type": "scattermapbox"
           }
          ],
          "scatterpolar": [
           {
            "marker": {
             "colorbar": {
              "outlinewidth": 0,
              "ticks": ""
             }
            },
            "type": "scatterpolar"
           }
          ],
          "scatterpolargl": [
           {
            "marker": {
             "colorbar": {
              "outlinewidth": 0,
              "ticks": ""
             }
            },
            "type": "scatterpolargl"
           }
          ],
          "scatterternary": [
           {
            "marker": {
             "colorbar": {
              "outlinewidth": 0,
              "ticks": ""
             }
            },
            "type": "scatterternary"
           }
          ],
          "surface": [
           {
            "colorbar": {
             "outlinewidth": 0,
             "ticks": ""
            },
            "colorscale": [
             [
              0,
              "#0d0887"
             ],
             [
              0.1111111111111111,
              "#46039f"
             ],
             [
              0.2222222222222222,
              "#7201a8"
             ],
             [
              0.3333333333333333,
              "#9c179e"
             ],
             [
              0.4444444444444444,
              "#bd3786"
             ],
             [
              0.5555555555555556,
              "#d8576b"
             ],
             [
              0.6666666666666666,
              "#ed7953"
             ],
             [
              0.7777777777777778,
              "#fb9f3a"
             ],
             [
              0.8888888888888888,
              "#fdca26"
             ],
             [
              1,
              "#f0f921"
             ]
            ],
            "type": "surface"
           }
          ],
          "table": [
           {
            "cells": {
             "fill": {
              "color": "#EBF0F8"
             },
             "line": {
              "color": "white"
             }
            },
            "header": {
             "fill": {
              "color": "#C8D4E3"
             },
             "line": {
              "color": "white"
             }
            },
            "type": "table"
           }
          ]
         },
         "layout": {
          "annotationdefaults": {
           "arrowcolor": "#2a3f5f",
           "arrowhead": 0,
           "arrowwidth": 1
          },
          "autotypenumbers": "strict",
          "coloraxis": {
           "colorbar": {
            "outlinewidth": 0,
            "ticks": ""
           }
          },
          "colorscale": {
           "diverging": [
            [
             0,
             "#8e0152"
            ],
            [
             0.1,
             "#c51b7d"
            ],
            [
             0.2,
             "#de77ae"
            ],
            [
             0.3,
             "#f1b6da"
            ],
            [
             0.4,
             "#fde0ef"
            ],
            [
             0.5,
             "#f7f7f7"
            ],
            [
             0.6,
             "#e6f5d0"
            ],
            [
             0.7,
             "#b8e186"
            ],
            [
             0.8,
             "#7fbc41"
            ],
            [
             0.9,
             "#4d9221"
            ],
            [
             1,
             "#276419"
            ]
           ],
           "sequential": [
            [
             0,
             "#0d0887"
            ],
            [
             0.1111111111111111,
             "#46039f"
            ],
            [
             0.2222222222222222,
             "#7201a8"
            ],
            [
             0.3333333333333333,
             "#9c179e"
            ],
            [
             0.4444444444444444,
             "#bd3786"
            ],
            [
             0.5555555555555556,
             "#d8576b"
            ],
            [
             0.6666666666666666,
             "#ed7953"
            ],
            [
             0.7777777777777778,
             "#fb9f3a"
            ],
            [
             0.8888888888888888,
             "#fdca26"
            ],
            [
             1,
             "#f0f921"
            ]
           ],
           "sequentialminus": [
            [
             0,
             "#0d0887"
            ],
            [
             0.1111111111111111,
             "#46039f"
            ],
            [
             0.2222222222222222,
             "#7201a8"
            ],
            [
             0.3333333333333333,
             "#9c179e"
            ],
            [
             0.4444444444444444,
             "#bd3786"
            ],
            [
             0.5555555555555556,
             "#d8576b"
            ],
            [
             0.6666666666666666,
             "#ed7953"
            ],
            [
             0.7777777777777778,
             "#fb9f3a"
            ],
            [
             0.8888888888888888,
             "#fdca26"
            ],
            [
             1,
             "#f0f921"
            ]
           ]
          },
          "colorway": [
           "#636efa",
           "#EF553B",
           "#00cc96",
           "#ab63fa",
           "#FFA15A",
           "#19d3f3",
           "#FF6692",
           "#B6E880",
           "#FF97FF",
           "#FECB52"
          ],
          "font": {
           "color": "#2a3f5f"
          },
          "geo": {
           "bgcolor": "white",
           "lakecolor": "white",
           "landcolor": "#E5ECF6",
           "showlakes": true,
           "showland": true,
           "subunitcolor": "white"
          },
          "hoverlabel": {
           "align": "left"
          },
          "hovermode": "closest",
          "mapbox": {
           "style": "light"
          },
          "paper_bgcolor": "white",
          "plot_bgcolor": "#E5ECF6",
          "polar": {
           "angularaxis": {
            "gridcolor": "white",
            "linecolor": "white",
            "ticks": ""
           },
           "bgcolor": "#E5ECF6",
           "radialaxis": {
            "gridcolor": "white",
            "linecolor": "white",
            "ticks": ""
           }
          },
          "scene": {
           "xaxis": {
            "backgroundcolor": "#E5ECF6",
            "gridcolor": "white",
            "gridwidth": 2,
            "linecolor": "white",
            "showbackground": true,
            "ticks": "",
            "zerolinecolor": "white"
           },
           "yaxis": {
            "backgroundcolor": "#E5ECF6",
            "gridcolor": "white",
            "gridwidth": 2,
            "linecolor": "white",
            "showbackground": true,
            "ticks": "",
            "zerolinecolor": "white"
           },
           "zaxis": {
            "backgroundcolor": "#E5ECF6",
            "gridcolor": "white",
            "gridwidth": 2,
            "linecolor": "white",
            "showbackground": true,
            "ticks": "",
            "zerolinecolor": "white"
           }
          },
          "shapedefaults": {
           "line": {
            "color": "#2a3f5f"
           }
          },
          "ternary": {
           "aaxis": {
            "gridcolor": "white",
            "linecolor": "white",
            "ticks": ""
           },
           "baxis": {
            "gridcolor": "white",
            "linecolor": "white",
            "ticks": ""
           },
           "bgcolor": "#E5ECF6",
           "caxis": {
            "gridcolor": "white",
            "linecolor": "white",
            "ticks": ""
           }
          },
          "title": {
           "x": 0.05
          },
          "xaxis": {
           "automargin": true,
           "gridcolor": "white",
           "linecolor": "white",
           "ticks": "",
           "title": {
            "standoff": 15
           },
           "zerolinecolor": "white",
           "zerolinewidth": 2
          },
          "yaxis": {
           "automargin": true,
           "gridcolor": "white",
           "linecolor": "white",
           "ticks": "",
           "title": {
            "standoff": 15
           },
           "zerolinecolor": "white",
           "zerolinewidth": 2
          }
         }
        },
        "title": {
         "text": "Customer Count by Segment"
        },
        "xaxis": {
         "anchor": "y",
         "domain": [
          0,
          1
         ],
         "title": {
          "text": "segment"
         }
        },
        "yaxis": {
         "anchor": "x",
         "domain": [
          0,
          1
         ],
         "title": {
          "text": "Total Customer"
         }
        }
       }
      }
     },
     "metadata": {},
     "output_type": "display_data"
    }
   ],
   "source": [
    "fig = px.bar(segment_count,x='segment',y='Total Customer',title='Customer Count by Segment')\n",
    "fig.show()"
   ]
  },
  {
   "cell_type": "code",
   "execution_count": 30,
   "metadata": {},
   "outputs": [],
   "source": [
    "Recency = R_1\n"
   ]
  },
  {
   "cell_type": "code",
   "execution_count": 31,
   "metadata": {},
   "outputs": [
    {
     "data": {
      "text/html": [
       "<div>\n",
       "<style scoped>\n",
       "    .dataframe tbody tr th:only-of-type {\n",
       "        vertical-align: middle;\n",
       "    }\n",
       "\n",
       "    .dataframe tbody tr th {\n",
       "        vertical-align: top;\n",
       "    }\n",
       "\n",
       "    .dataframe thead th {\n",
       "        text-align: right;\n",
       "    }\n",
       "</style>\n",
       "<table border=\"1\" class=\"dataframe\">\n",
       "  <thead>\n",
       "    <tr style=\"text-align: right;\">\n",
       "      <th></th>\n",
       "      <th>CustomerID</th>\n",
       "      <th>TransactionDate</th>\n",
       "      <th>DateDiff</th>\n",
       "      <th>R</th>\n",
       "    </tr>\n",
       "  </thead>\n",
       "  <tbody>\n",
       "    <tr>\n",
       "      <th>0</th>\n",
       "      <td>0</td>\n",
       "      <td>2021-12-24</td>\n",
       "      <td>834</td>\n",
       "      <td>1</td>\n",
       "    </tr>\n",
       "    <tr>\n",
       "      <th>1</th>\n",
       "      <td>1</td>\n",
       "      <td>2022-03-07</td>\n",
       "      <td>761</td>\n",
       "      <td>2</td>\n",
       "    </tr>\n",
       "    <tr>\n",
       "      <th>2</th>\n",
       "      <td>8</td>\n",
       "      <td>2022-07-11</td>\n",
       "      <td>635</td>\n",
       "      <td>3</td>\n",
       "    </tr>\n",
       "    <tr>\n",
       "      <th>3</th>\n",
       "      <td>16</td>\n",
       "      <td>2022-09-16</td>\n",
       "      <td>568</td>\n",
       "      <td>3</td>\n",
       "    </tr>\n",
       "    <tr>\n",
       "      <th>4</th>\n",
       "      <td>18</td>\n",
       "      <td>2022-01-29</td>\n",
       "      <td>798</td>\n",
       "      <td>1</td>\n",
       "    </tr>\n",
       "    <tr>\n",
       "      <th>...</th>\n",
       "      <td>...</td>\n",
       "      <td>...</td>\n",
       "      <td>...</td>\n",
       "      <td>...</td>\n",
       "    </tr>\n",
       "    <tr>\n",
       "      <th>583637</th>\n",
       "      <td>2174065</td>\n",
       "      <td>2022-04-30</td>\n",
       "      <td>707</td>\n",
       "      <td>2</td>\n",
       "    </tr>\n",
       "    <tr>\n",
       "      <th>583638</th>\n",
       "      <td>2174066</td>\n",
       "      <td>2023-01-03</td>\n",
       "      <td>459</td>\n",
       "      <td>4</td>\n",
       "    </tr>\n",
       "    <tr>\n",
       "      <th>583639</th>\n",
       "      <td>2174072</td>\n",
       "      <td>2022-12-04</td>\n",
       "      <td>489</td>\n",
       "      <td>4</td>\n",
       "    </tr>\n",
       "    <tr>\n",
       "      <th>583640</th>\n",
       "      <td>2174075</td>\n",
       "      <td>2022-12-10</td>\n",
       "      <td>483</td>\n",
       "      <td>4</td>\n",
       "    </tr>\n",
       "    <tr>\n",
       "      <th>583641</th>\n",
       "      <td>2174083</td>\n",
       "      <td>2021-10-16</td>\n",
       "      <td>903</td>\n",
       "      <td>1</td>\n",
       "    </tr>\n",
       "  </tbody>\n",
       "</table>\n",
       "<p>583642 rows × 4 columns</p>\n",
       "</div>"
      ],
      "text/plain": [
       "        CustomerID TransactionDate  DateDiff  R\n",
       "0                0      2021-12-24       834  1\n",
       "1                1      2022-03-07       761  2\n",
       "2                8      2022-07-11       635  3\n",
       "3               16      2022-09-16       568  3\n",
       "4               18      2022-01-29       798  1\n",
       "...            ...             ...       ... ..\n",
       "583637     2174065      2022-04-30       707  2\n",
       "583638     2174066      2023-01-03       459  4\n",
       "583639     2174072      2022-12-04       489  4\n",
       "583640     2174075      2022-12-10       483  4\n",
       "583641     2174083      2021-10-16       903  1\n",
       "\n",
       "[583642 rows x 4 columns]"
      ]
     },
     "execution_count": 31,
     "metadata": {},
     "output_type": "execute_result"
    }
   ],
   "source": [
    "Recency "
   ]
  },
  {
   "cell_type": "code",
   "execution_count": 32,
   "metadata": {},
   "outputs": [
    {
     "data": {
      "text/html": [
       "<div>\n",
       "<style scoped>\n",
       "    .dataframe tbody tr th:only-of-type {\n",
       "        vertical-align: middle;\n",
       "    }\n",
       "\n",
       "    .dataframe tbody tr th {\n",
       "        vertical-align: top;\n",
       "    }\n",
       "\n",
       "    .dataframe thead th {\n",
       "        text-align: right;\n",
       "    }\n",
       "</style>\n",
       "<table border=\"1\" class=\"dataframe\">\n",
       "  <thead>\n",
       "    <tr style=\"text-align: right;\">\n",
       "      <th></th>\n",
       "      <th>CustomerID</th>\n",
       "      <th>Frequency</th>\n",
       "      <th>F</th>\n",
       "    </tr>\n",
       "  </thead>\n",
       "  <tbody>\n",
       "    <tr>\n",
       "      <th>0</th>\n",
       "      <td>0</td>\n",
       "      <td>1</td>\n",
       "      <td>1</td>\n",
       "    </tr>\n",
       "    <tr>\n",
       "      <th>1</th>\n",
       "      <td>1</td>\n",
       "      <td>1</td>\n",
       "      <td>1</td>\n",
       "    </tr>\n",
       "    <tr>\n",
       "      <th>2</th>\n",
       "      <td>8</td>\n",
       "      <td>1</td>\n",
       "      <td>1</td>\n",
       "    </tr>\n",
       "    <tr>\n",
       "      <th>3</th>\n",
       "      <td>16</td>\n",
       "      <td>1</td>\n",
       "      <td>1</td>\n",
       "    </tr>\n",
       "    <tr>\n",
       "      <th>4</th>\n",
       "      <td>18</td>\n",
       "      <td>1</td>\n",
       "      <td>1</td>\n",
       "    </tr>\n",
       "    <tr>\n",
       "      <th>...</th>\n",
       "      <td>...</td>\n",
       "      <td>...</td>\n",
       "      <td>...</td>\n",
       "    </tr>\n",
       "    <tr>\n",
       "      <th>583637</th>\n",
       "      <td>2174065</td>\n",
       "      <td>1</td>\n",
       "      <td>1</td>\n",
       "    </tr>\n",
       "    <tr>\n",
       "      <th>583638</th>\n",
       "      <td>2174066</td>\n",
       "      <td>1</td>\n",
       "      <td>1</td>\n",
       "    </tr>\n",
       "    <tr>\n",
       "      <th>583639</th>\n",
       "      <td>2174072</td>\n",
       "      <td>3</td>\n",
       "      <td>1</td>\n",
       "    </tr>\n",
       "    <tr>\n",
       "      <th>583640</th>\n",
       "      <td>2174075</td>\n",
       "      <td>1</td>\n",
       "      <td>1</td>\n",
       "    </tr>\n",
       "    <tr>\n",
       "      <th>583641</th>\n",
       "      <td>2174083</td>\n",
       "      <td>1</td>\n",
       "      <td>1</td>\n",
       "    </tr>\n",
       "  </tbody>\n",
       "</table>\n",
       "<p>583642 rows × 3 columns</p>\n",
       "</div>"
      ],
      "text/plain": [
       "        CustomerID  Frequency  F\n",
       "0                0          1  1\n",
       "1                1          1  1\n",
       "2                8          1  1\n",
       "3               16          1  1\n",
       "4               18          1  1\n",
       "...            ...        ... ..\n",
       "583637     2174065          1  1\n",
       "583638     2174066          1  1\n",
       "583639     2174072          3  1\n",
       "583640     2174075          1  1\n",
       "583641     2174083          1  1\n",
       "\n",
       "[583642 rows x 3 columns]"
      ]
     },
     "execution_count": 32,
     "metadata": {},
     "output_type": "execute_result"
    }
   ],
   "source": [
    "Frequency = F_1\n",
    "Frequency"
   ]
  },
  {
   "cell_type": "code",
   "execution_count": 33,
   "metadata": {},
   "outputs": [
    {
     "data": {
      "text/html": [
       "<div>\n",
       "<style scoped>\n",
       "    .dataframe tbody tr th:only-of-type {\n",
       "        vertical-align: middle;\n",
       "    }\n",
       "\n",
       "    .dataframe tbody tr th {\n",
       "        vertical-align: top;\n",
       "    }\n",
       "\n",
       "    .dataframe thead th {\n",
       "        text-align: right;\n",
       "    }\n",
       "</style>\n",
       "<table border=\"1\" class=\"dataframe\">\n",
       "  <thead>\n",
       "    <tr style=\"text-align: right;\">\n",
       "      <th></th>\n",
       "      <th>CustomerID</th>\n",
       "      <th>SalesAmount</th>\n",
       "      <th>M</th>\n",
       "    </tr>\n",
       "  </thead>\n",
       "  <tbody>\n",
       "    <tr>\n",
       "      <th>0</th>\n",
       "      <td>0</td>\n",
       "      <td>411663</td>\n",
       "      <td>2</td>\n",
       "    </tr>\n",
       "    <tr>\n",
       "      <th>1</th>\n",
       "      <td>1</td>\n",
       "      <td>105503</td>\n",
       "      <td>1</td>\n",
       "    </tr>\n",
       "    <tr>\n",
       "      <th>2</th>\n",
       "      <td>8</td>\n",
       "      <td>1098496</td>\n",
       "      <td>4</td>\n",
       "    </tr>\n",
       "    <tr>\n",
       "      <th>3</th>\n",
       "      <td>16</td>\n",
       "      <td>286558</td>\n",
       "      <td>2</td>\n",
       "    </tr>\n",
       "    <tr>\n",
       "      <th>4</th>\n",
       "      <td>18</td>\n",
       "      <td>287492</td>\n",
       "      <td>2</td>\n",
       "    </tr>\n",
       "    <tr>\n",
       "      <th>...</th>\n",
       "      <td>...</td>\n",
       "      <td>...</td>\n",
       "      <td>...</td>\n",
       "    </tr>\n",
       "    <tr>\n",
       "      <th>583637</th>\n",
       "      <td>2174065</td>\n",
       "      <td>138943</td>\n",
       "      <td>1</td>\n",
       "    </tr>\n",
       "    <tr>\n",
       "      <th>583638</th>\n",
       "      <td>2174066</td>\n",
       "      <td>143685</td>\n",
       "      <td>1</td>\n",
       "    </tr>\n",
       "    <tr>\n",
       "      <th>583639</th>\n",
       "      <td>2174072</td>\n",
       "      <td>953618</td>\n",
       "      <td>4</td>\n",
       "    </tr>\n",
       "    <tr>\n",
       "      <th>583640</th>\n",
       "      <td>2174075</td>\n",
       "      <td>262489</td>\n",
       "      <td>2</td>\n",
       "    </tr>\n",
       "    <tr>\n",
       "      <th>583641</th>\n",
       "      <td>2174083</td>\n",
       "      <td>185271</td>\n",
       "      <td>1</td>\n",
       "    </tr>\n",
       "  </tbody>\n",
       "</table>\n",
       "<p>583642 rows × 3 columns</p>\n",
       "</div>"
      ],
      "text/plain": [
       "        CustomerID  SalesAmount  M\n",
       "0                0       411663  2\n",
       "1                1       105503  1\n",
       "2                8      1098496  4\n",
       "3               16       286558  2\n",
       "4               18       287492  2\n",
       "...            ...          ... ..\n",
       "583637     2174065       138943  1\n",
       "583638     2174066       143685  1\n",
       "583639     2174072       953618  4\n",
       "583640     2174075       262489  2\n",
       "583641     2174083       185271  1\n",
       "\n",
       "[583642 rows x 3 columns]"
      ]
     },
     "execution_count": 33,
     "metadata": {},
     "output_type": "execute_result"
    }
   ],
   "source": [
    "Monetary = M_1\n",
    "Monetary"
   ]
  },
  {
   "cell_type": "code",
   "execution_count": 34,
   "metadata": {},
   "outputs": [],
   "source": [
    "RFM_ml = Recency.merge(Frequency,on='CustomerID',how='left').merge(Monetary,on='CustomerID',how='left')"
   ]
  },
  {
   "cell_type": "code",
   "execution_count": 35,
   "metadata": {},
   "outputs": [],
   "source": [
    "RFM_ml = RFM_ml.merge(df,on='CustomerID',how='left')"
   ]
  },
  {
   "cell_type": "code",
   "execution_count": 36,
   "metadata": {},
   "outputs": [],
   "source": [
    "RFM_ml = RFM_ml[['DateDiff','Frequency','SalesAmount_x','CustomerGender','VoucherStatus','Province']]"
   ]
  },
  {
   "cell_type": "code",
   "execution_count": 37,
   "metadata": {},
   "outputs": [
    {
     "data": {
      "text/html": [
       "<div>\n",
       "<style scoped>\n",
       "    .dataframe tbody tr th:only-of-type {\n",
       "        vertical-align: middle;\n",
       "    }\n",
       "\n",
       "    .dataframe tbody tr th {\n",
       "        vertical-align: top;\n",
       "    }\n",
       "\n",
       "    .dataframe thead th {\n",
       "        text-align: right;\n",
       "    }\n",
       "</style>\n",
       "<table border=\"1\" class=\"dataframe\">\n",
       "  <thead>\n",
       "    <tr style=\"text-align: right;\">\n",
       "      <th></th>\n",
       "      <th>DateDiff</th>\n",
       "      <th>Frequency</th>\n",
       "      <th>SalesAmount_x</th>\n",
       "      <th>CustomerGender</th>\n",
       "      <th>VoucherStatus</th>\n",
       "      <th>Province</th>\n",
       "    </tr>\n",
       "  </thead>\n",
       "  <tbody>\n",
       "    <tr>\n",
       "      <th>0</th>\n",
       "      <td>834</td>\n",
       "      <td>1</td>\n",
       "      <td>411663</td>\n",
       "      <td>Unknown</td>\n",
       "      <td>No</td>\n",
       "      <td>Ho Chi Minh City</td>\n",
       "    </tr>\n",
       "    <tr>\n",
       "      <th>1</th>\n",
       "      <td>761</td>\n",
       "      <td>1</td>\n",
       "      <td>105503</td>\n",
       "      <td>Unknown</td>\n",
       "      <td>No</td>\n",
       "      <td>Nothern Provinces</td>\n",
       "    </tr>\n",
       "    <tr>\n",
       "      <th>2</th>\n",
       "      <td>635</td>\n",
       "      <td>1</td>\n",
       "      <td>1098496</td>\n",
       "      <td>Unknown</td>\n",
       "      <td>No</td>\n",
       "      <td>Hanoi</td>\n",
       "    </tr>\n",
       "    <tr>\n",
       "      <th>3</th>\n",
       "      <td>568</td>\n",
       "      <td>1</td>\n",
       "      <td>286558</td>\n",
       "      <td>Unknown</td>\n",
       "      <td>No</td>\n",
       "      <td>Nothern Provinces</td>\n",
       "    </tr>\n",
       "    <tr>\n",
       "      <th>4</th>\n",
       "      <td>798</td>\n",
       "      <td>1</td>\n",
       "      <td>287492</td>\n",
       "      <td>Unknown</td>\n",
       "      <td>No</td>\n",
       "      <td>Hanoi</td>\n",
       "    </tr>\n",
       "    <tr>\n",
       "      <th>...</th>\n",
       "      <td>...</td>\n",
       "      <td>...</td>\n",
       "      <td>...</td>\n",
       "      <td>...</td>\n",
       "      <td>...</td>\n",
       "      <td>...</td>\n",
       "    </tr>\n",
       "    <tr>\n",
       "      <th>1048570</th>\n",
       "      <td>489</td>\n",
       "      <td>3</td>\n",
       "      <td>953618</td>\n",
       "      <td>Male</td>\n",
       "      <td>No</td>\n",
       "      <td>Southern Provinces</td>\n",
       "    </tr>\n",
       "    <tr>\n",
       "      <th>1048571</th>\n",
       "      <td>489</td>\n",
       "      <td>3</td>\n",
       "      <td>953618</td>\n",
       "      <td>Male</td>\n",
       "      <td>No</td>\n",
       "      <td>Ho Chi Minh City</td>\n",
       "    </tr>\n",
       "    <tr>\n",
       "      <th>1048572</th>\n",
       "      <td>489</td>\n",
       "      <td>3</td>\n",
       "      <td>953618</td>\n",
       "      <td>Male</td>\n",
       "      <td>No</td>\n",
       "      <td>Ho Chi Minh City</td>\n",
       "    </tr>\n",
       "    <tr>\n",
       "      <th>1048573</th>\n",
       "      <td>483</td>\n",
       "      <td>1</td>\n",
       "      <td>262489</td>\n",
       "      <td>Unknown</td>\n",
       "      <td>No</td>\n",
       "      <td>Southern Provinces</td>\n",
       "    </tr>\n",
       "    <tr>\n",
       "      <th>1048574</th>\n",
       "      <td>903</td>\n",
       "      <td>1</td>\n",
       "      <td>185271</td>\n",
       "      <td>Unknown</td>\n",
       "      <td>No</td>\n",
       "      <td>Southern Provinces</td>\n",
       "    </tr>\n",
       "  </tbody>\n",
       "</table>\n",
       "<p>1048575 rows × 6 columns</p>\n",
       "</div>"
      ],
      "text/plain": [
       "         DateDiff  Frequency  SalesAmount_x CustomerGender VoucherStatus  \\\n",
       "0             834          1         411663        Unknown            No   \n",
       "1             761          1         105503        Unknown            No   \n",
       "2             635          1        1098496        Unknown            No   \n",
       "3             568          1         286558        Unknown            No   \n",
       "4             798          1         287492        Unknown            No   \n",
       "...           ...        ...            ...            ...           ...   \n",
       "1048570       489          3         953618           Male            No   \n",
       "1048571       489          3         953618           Male            No   \n",
       "1048572       489          3         953618           Male            No   \n",
       "1048573       483          1         262489        Unknown            No   \n",
       "1048574       903          1         185271        Unknown            No   \n",
       "\n",
       "                   Province  \n",
       "0          Ho Chi Minh City  \n",
       "1         Nothern Provinces  \n",
       "2                     Hanoi  \n",
       "3         Nothern Provinces  \n",
       "4                     Hanoi  \n",
       "...                     ...  \n",
       "1048570  Southern Provinces  \n",
       "1048571    Ho Chi Minh City  \n",
       "1048572    Ho Chi Minh City  \n",
       "1048573  Southern Provinces  \n",
       "1048574  Southern Provinces  \n",
       "\n",
       "[1048575 rows x 6 columns]"
      ]
     },
     "execution_count": 37,
     "metadata": {},
     "output_type": "execute_result"
    }
   ],
   "source": [
    "RFM_ml"
   ]
  },
  {
   "cell_type": "code",
   "execution_count": null,
   "metadata": {},
   "outputs": [],
   "source": [
    "#Calculate customer lifetime value\n"
   ]
  },
  {
   "cell_type": "code",
   "execution_count": 38,
   "metadata": {},
   "outputs": [
    {
     "data": {
      "text/plain": [
       "1048575"
      ]
     },
     "execution_count": 38,
     "metadata": {},
     "output_type": "execute_result"
    }
   ],
   "source": [
    "RFM_ml.shape[0]"
   ]
  },
  {
   "cell_type": "code",
   "execution_count": 39,
   "metadata": {},
   "outputs": [],
   "source": [
    "# calculate average order_value\n",
    "RFM_ml['AVG_order_value'] = RFM_ml['SalesAmount_x'] / RFM_ml['Frequency']"
   ]
  },
  {
   "cell_type": "code",
   "execution_count": 40,
   "metadata": {},
   "outputs": [],
   "source": [
    "pd.options.display.float_format = '{:.2f}'.format\n"
   ]
  },
  {
   "cell_type": "code",
   "execution_count": 41,
   "metadata": {},
   "outputs": [
    {
     "data": {
      "text/html": [
       "<div>\n",
       "<style scoped>\n",
       "    .dataframe tbody tr th:only-of-type {\n",
       "        vertical-align: middle;\n",
       "    }\n",
       "\n",
       "    .dataframe tbody tr th {\n",
       "        vertical-align: top;\n",
       "    }\n",
       "\n",
       "    .dataframe thead th {\n",
       "        text-align: right;\n",
       "    }\n",
       "</style>\n",
       "<table border=\"1\" class=\"dataframe\">\n",
       "  <thead>\n",
       "    <tr style=\"text-align: right;\">\n",
       "      <th></th>\n",
       "      <th>DateDiff</th>\n",
       "      <th>Frequency</th>\n",
       "      <th>SalesAmount_x</th>\n",
       "      <th>CustomerGender</th>\n",
       "      <th>VoucherStatus</th>\n",
       "      <th>Province</th>\n",
       "      <th>AVG_order_value</th>\n",
       "    </tr>\n",
       "  </thead>\n",
       "  <tbody>\n",
       "    <tr>\n",
       "      <th>0</th>\n",
       "      <td>834</td>\n",
       "      <td>1</td>\n",
       "      <td>411663</td>\n",
       "      <td>Unknown</td>\n",
       "      <td>No</td>\n",
       "      <td>Ho Chi Minh City</td>\n",
       "      <td>411663.00</td>\n",
       "    </tr>\n",
       "    <tr>\n",
       "      <th>1</th>\n",
       "      <td>761</td>\n",
       "      <td>1</td>\n",
       "      <td>105503</td>\n",
       "      <td>Unknown</td>\n",
       "      <td>No</td>\n",
       "      <td>Nothern Provinces</td>\n",
       "      <td>105503.00</td>\n",
       "    </tr>\n",
       "    <tr>\n",
       "      <th>2</th>\n",
       "      <td>635</td>\n",
       "      <td>1</td>\n",
       "      <td>1098496</td>\n",
       "      <td>Unknown</td>\n",
       "      <td>No</td>\n",
       "      <td>Hanoi</td>\n",
       "      <td>1098496.00</td>\n",
       "    </tr>\n",
       "    <tr>\n",
       "      <th>3</th>\n",
       "      <td>568</td>\n",
       "      <td>1</td>\n",
       "      <td>286558</td>\n",
       "      <td>Unknown</td>\n",
       "      <td>No</td>\n",
       "      <td>Nothern Provinces</td>\n",
       "      <td>286558.00</td>\n",
       "    </tr>\n",
       "    <tr>\n",
       "      <th>4</th>\n",
       "      <td>798</td>\n",
       "      <td>1</td>\n",
       "      <td>287492</td>\n",
       "      <td>Unknown</td>\n",
       "      <td>No</td>\n",
       "      <td>Hanoi</td>\n",
       "      <td>287492.00</td>\n",
       "    </tr>\n",
       "    <tr>\n",
       "      <th>...</th>\n",
       "      <td>...</td>\n",
       "      <td>...</td>\n",
       "      <td>...</td>\n",
       "      <td>...</td>\n",
       "      <td>...</td>\n",
       "      <td>...</td>\n",
       "      <td>...</td>\n",
       "    </tr>\n",
       "    <tr>\n",
       "      <th>1048570</th>\n",
       "      <td>489</td>\n",
       "      <td>3</td>\n",
       "      <td>953618</td>\n",
       "      <td>Male</td>\n",
       "      <td>No</td>\n",
       "      <td>Southern Provinces</td>\n",
       "      <td>317872.67</td>\n",
       "    </tr>\n",
       "    <tr>\n",
       "      <th>1048571</th>\n",
       "      <td>489</td>\n",
       "      <td>3</td>\n",
       "      <td>953618</td>\n",
       "      <td>Male</td>\n",
       "      <td>No</td>\n",
       "      <td>Ho Chi Minh City</td>\n",
       "      <td>317872.67</td>\n",
       "    </tr>\n",
       "    <tr>\n",
       "      <th>1048572</th>\n",
       "      <td>489</td>\n",
       "      <td>3</td>\n",
       "      <td>953618</td>\n",
       "      <td>Male</td>\n",
       "      <td>No</td>\n",
       "      <td>Ho Chi Minh City</td>\n",
       "      <td>317872.67</td>\n",
       "    </tr>\n",
       "    <tr>\n",
       "      <th>1048573</th>\n",
       "      <td>483</td>\n",
       "      <td>1</td>\n",
       "      <td>262489</td>\n",
       "      <td>Unknown</td>\n",
       "      <td>No</td>\n",
       "      <td>Southern Provinces</td>\n",
       "      <td>262489.00</td>\n",
       "    </tr>\n",
       "    <tr>\n",
       "      <th>1048574</th>\n",
       "      <td>903</td>\n",
       "      <td>1</td>\n",
       "      <td>185271</td>\n",
       "      <td>Unknown</td>\n",
       "      <td>No</td>\n",
       "      <td>Southern Provinces</td>\n",
       "      <td>185271.00</td>\n",
       "    </tr>\n",
       "  </tbody>\n",
       "</table>\n",
       "<p>1048575 rows × 7 columns</p>\n",
       "</div>"
      ],
      "text/plain": [
       "         DateDiff  Frequency  SalesAmount_x CustomerGender VoucherStatus  \\\n",
       "0             834          1         411663        Unknown            No   \n",
       "1             761          1         105503        Unknown            No   \n",
       "2             635          1        1098496        Unknown            No   \n",
       "3             568          1         286558        Unknown            No   \n",
       "4             798          1         287492        Unknown            No   \n",
       "...           ...        ...            ...            ...           ...   \n",
       "1048570       489          3         953618           Male            No   \n",
       "1048571       489          3         953618           Male            No   \n",
       "1048572       489          3         953618           Male            No   \n",
       "1048573       483          1         262489        Unknown            No   \n",
       "1048574       903          1         185271        Unknown            No   \n",
       "\n",
       "                   Province  AVG_order_value  \n",
       "0          Ho Chi Minh City        411663.00  \n",
       "1         Nothern Provinces        105503.00  \n",
       "2                     Hanoi       1098496.00  \n",
       "3         Nothern Provinces        286558.00  \n",
       "4                     Hanoi        287492.00  \n",
       "...                     ...              ...  \n",
       "1048570  Southern Provinces        317872.67  \n",
       "1048571    Ho Chi Minh City        317872.67  \n",
       "1048572    Ho Chi Minh City        317872.67  \n",
       "1048573  Southern Provinces        262489.00  \n",
       "1048574  Southern Provinces        185271.00  \n",
       "\n",
       "[1048575 rows x 7 columns]"
      ]
     },
     "execution_count": 41,
     "metadata": {},
     "output_type": "execute_result"
    }
   ],
   "source": [
    "RFM_ml"
   ]
  },
  {
   "cell_type": "code",
   "execution_count": 42,
   "metadata": {},
   "outputs": [],
   "source": [
    "purchase_frequency = RFM_ml['Frequency'] / RFM_ml.shape[0]\n"
   ]
  },
  {
   "cell_type": "code",
   "execution_count": 43,
   "metadata": {},
   "outputs": [
    {
     "data": {
      "text/plain": [
       "0.6066452089740839"
      ]
     },
     "execution_count": 43,
     "metadata": {},
     "output_type": "execute_result"
    }
   ],
   "source": [
    "repeat_rate = RFM_ml['Frequency'][RFM_ml['Frequency'] > 1].shape[0] / RFM_ml.shape[0]\n",
    "repeat_rate"
   ]
  },
  {
   "cell_type": "code",
   "execution_count": 44,
   "metadata": {},
   "outputs": [
    {
     "data": {
      "text/plain": [
       "0.3933547910259161"
      ]
     },
     "execution_count": 44,
     "metadata": {},
     "output_type": "execute_result"
    }
   ],
   "source": [
    "churn_rate = 1 - repeat_rate\n",
    "churn_rate"
   ]
  },
  {
   "cell_type": "code",
   "execution_count": 45,
   "metadata": {},
   "outputs": [],
   "source": [
    "#calculate customer value\n",
    "RFM_ml['CLV'] = (RFM_ml['AVG_order_value'] * purchase_frequency ) / churn_rate"
   ]
  },
  {
   "cell_type": "code",
   "execution_count": 87,
   "metadata": {},
   "outputs": [
    {
     "data": {
      "text/html": [
       "<div>\n",
       "<style scoped>\n",
       "    .dataframe tbody tr th:only-of-type {\n",
       "        vertical-align: middle;\n",
       "    }\n",
       "\n",
       "    .dataframe tbody tr th {\n",
       "        vertical-align: top;\n",
       "    }\n",
       "\n",
       "    .dataframe thead th {\n",
       "        text-align: right;\n",
       "    }\n",
       "</style>\n",
       "<table border=\"1\" class=\"dataframe\">\n",
       "  <thead>\n",
       "    <tr style=\"text-align: right;\">\n",
       "      <th></th>\n",
       "      <th>DateDiff</th>\n",
       "      <th>Frequency</th>\n",
       "      <th>SalesAmount_x</th>\n",
       "      <th>CustomerGender</th>\n",
       "      <th>VoucherStatus</th>\n",
       "      <th>Province</th>\n",
       "      <th>AVG_order_value</th>\n",
       "      <th>CLV</th>\n",
       "    </tr>\n",
       "  </thead>\n",
       "  <tbody>\n",
       "    <tr>\n",
       "      <th>0</th>\n",
       "      <td>833</td>\n",
       "      <td>1</td>\n",
       "      <td>411663</td>\n",
       "      <td>Unknown</td>\n",
       "      <td>No</td>\n",
       "      <td>Ho Chi Minh City</td>\n",
       "      <td>411663.00</td>\n",
       "      <td>1.00</td>\n",
       "    </tr>\n",
       "    <tr>\n",
       "      <th>1</th>\n",
       "      <td>760</td>\n",
       "      <td>1</td>\n",
       "      <td>105503</td>\n",
       "      <td>Unknown</td>\n",
       "      <td>No</td>\n",
       "      <td>Nothern Provinces</td>\n",
       "      <td>105503.00</td>\n",
       "      <td>0.26</td>\n",
       "    </tr>\n",
       "    <tr>\n",
       "      <th>2</th>\n",
       "      <td>634</td>\n",
       "      <td>1</td>\n",
       "      <td>1098496</td>\n",
       "      <td>Unknown</td>\n",
       "      <td>No</td>\n",
       "      <td>Hanoi</td>\n",
       "      <td>1098496.00</td>\n",
       "      <td>2.66</td>\n",
       "    </tr>\n",
       "    <tr>\n",
       "      <th>3</th>\n",
       "      <td>567</td>\n",
       "      <td>1</td>\n",
       "      <td>286558</td>\n",
       "      <td>Unknown</td>\n",
       "      <td>No</td>\n",
       "      <td>Nothern Provinces</td>\n",
       "      <td>286558.00</td>\n",
       "      <td>0.69</td>\n",
       "    </tr>\n",
       "    <tr>\n",
       "      <th>4</th>\n",
       "      <td>797</td>\n",
       "      <td>1</td>\n",
       "      <td>287492</td>\n",
       "      <td>Unknown</td>\n",
       "      <td>No</td>\n",
       "      <td>Hanoi</td>\n",
       "      <td>287492.00</td>\n",
       "      <td>0.70</td>\n",
       "    </tr>\n",
       "    <tr>\n",
       "      <th>...</th>\n",
       "      <td>...</td>\n",
       "      <td>...</td>\n",
       "      <td>...</td>\n",
       "      <td>...</td>\n",
       "      <td>...</td>\n",
       "      <td>...</td>\n",
       "      <td>...</td>\n",
       "      <td>...</td>\n",
       "    </tr>\n",
       "    <tr>\n",
       "      <th>1048570</th>\n",
       "      <td>488</td>\n",
       "      <td>3</td>\n",
       "      <td>953618</td>\n",
       "      <td>Male</td>\n",
       "      <td>No</td>\n",
       "      <td>Southern Provinces</td>\n",
       "      <td>317872.67</td>\n",
       "      <td>2.31</td>\n",
       "    </tr>\n",
       "    <tr>\n",
       "      <th>1048571</th>\n",
       "      <td>488</td>\n",
       "      <td>3</td>\n",
       "      <td>953618</td>\n",
       "      <td>Male</td>\n",
       "      <td>No</td>\n",
       "      <td>Ho Chi Minh City</td>\n",
       "      <td>317872.67</td>\n",
       "      <td>2.31</td>\n",
       "    </tr>\n",
       "    <tr>\n",
       "      <th>1048572</th>\n",
       "      <td>488</td>\n",
       "      <td>3</td>\n",
       "      <td>953618</td>\n",
       "      <td>Male</td>\n",
       "      <td>No</td>\n",
       "      <td>Ho Chi Minh City</td>\n",
       "      <td>317872.67</td>\n",
       "      <td>2.31</td>\n",
       "    </tr>\n",
       "    <tr>\n",
       "      <th>1048573</th>\n",
       "      <td>482</td>\n",
       "      <td>1</td>\n",
       "      <td>262489</td>\n",
       "      <td>Unknown</td>\n",
       "      <td>No</td>\n",
       "      <td>Southern Provinces</td>\n",
       "      <td>262489.00</td>\n",
       "      <td>0.64</td>\n",
       "    </tr>\n",
       "    <tr>\n",
       "      <th>1048574</th>\n",
       "      <td>902</td>\n",
       "      <td>1</td>\n",
       "      <td>185271</td>\n",
       "      <td>Unknown</td>\n",
       "      <td>No</td>\n",
       "      <td>Southern Provinces</td>\n",
       "      <td>185271.00</td>\n",
       "      <td>0.45</td>\n",
       "    </tr>\n",
       "  </tbody>\n",
       "</table>\n",
       "<p>1048575 rows × 8 columns</p>\n",
       "</div>"
      ],
      "text/plain": [
       "         DateDiff  Frequency  SalesAmount_x CustomerGender VoucherStatus  \\\n",
       "0             833          1         411663        Unknown            No   \n",
       "1             760          1         105503        Unknown            No   \n",
       "2             634          1        1098496        Unknown            No   \n",
       "3             567          1         286558        Unknown            No   \n",
       "4             797          1         287492        Unknown            No   \n",
       "...           ...        ...            ...            ...           ...   \n",
       "1048570       488          3         953618           Male            No   \n",
       "1048571       488          3         953618           Male            No   \n",
       "1048572       488          3         953618           Male            No   \n",
       "1048573       482          1         262489        Unknown            No   \n",
       "1048574       902          1         185271        Unknown            No   \n",
       "\n",
       "                   Province  AVG_order_value  CLV  \n",
       "0          Ho Chi Minh City        411663.00 1.00  \n",
       "1         Nothern Provinces        105503.00 0.26  \n",
       "2                     Hanoi       1098496.00 2.66  \n",
       "3         Nothern Provinces        286558.00 0.69  \n",
       "4                     Hanoi        287492.00 0.70  \n",
       "...                     ...              ...  ...  \n",
       "1048570  Southern Provinces        317872.67 2.31  \n",
       "1048571    Ho Chi Minh City        317872.67 2.31  \n",
       "1048572    Ho Chi Minh City        317872.67 2.31  \n",
       "1048573  Southern Provinces        262489.00 0.64  \n",
       "1048574  Southern Provinces        185271.00 0.45  \n",
       "\n",
       "[1048575 rows x 8 columns]"
      ]
     },
     "execution_count": 87,
     "metadata": {},
     "output_type": "execute_result"
    }
   ],
   "source": [
    "RFM_ml"
   ]
  },
  {
   "cell_type": "code",
   "execution_count": 46,
   "metadata": {},
   "outputs": [],
   "source": [
    "#  Let's assume our business has approx 5% profit on the total sale.\n",
    "# calculate Profit Margin\n",
    "RFM_ml['Profit Margin'] = RFM_ml['SalesAmount_x'] * 0.05"
   ]
  },
  {
   "cell_type": "code",
   "execution_count": 47,
   "metadata": {},
   "outputs": [],
   "source": [
    "# calculate customer lifetime value\n",
    "RFM_ml['Cust_lifetime_value'] = RFM_ml['CLV'] * RFM_ml['Profit Margin']"
   ]
  },
  {
   "cell_type": "code",
   "execution_count": 48,
   "metadata": {},
   "outputs": [
    {
     "data": {
      "text/html": [
       "<div>\n",
       "<style scoped>\n",
       "    .dataframe tbody tr th:only-of-type {\n",
       "        vertical-align: middle;\n",
       "    }\n",
       "\n",
       "    .dataframe tbody tr th {\n",
       "        vertical-align: top;\n",
       "    }\n",
       "\n",
       "    .dataframe thead th {\n",
       "        text-align: right;\n",
       "    }\n",
       "</style>\n",
       "<table border=\"1\" class=\"dataframe\">\n",
       "  <thead>\n",
       "    <tr style=\"text-align: right;\">\n",
       "      <th></th>\n",
       "      <th>DateDiff</th>\n",
       "      <th>Frequency</th>\n",
       "      <th>SalesAmount_x</th>\n",
       "      <th>CustomerGender</th>\n",
       "      <th>VoucherStatus</th>\n",
       "      <th>Province</th>\n",
       "      <th>AVG_order_value</th>\n",
       "      <th>CLV</th>\n",
       "      <th>Profit Margin</th>\n",
       "      <th>Cust_lifetime_value</th>\n",
       "    </tr>\n",
       "  </thead>\n",
       "  <tbody>\n",
       "    <tr>\n",
       "      <th>0</th>\n",
       "      <td>834</td>\n",
       "      <td>1</td>\n",
       "      <td>411663</td>\n",
       "      <td>Unknown</td>\n",
       "      <td>No</td>\n",
       "      <td>Ho Chi Minh City</td>\n",
       "      <td>411663.00</td>\n",
       "      <td>1.00</td>\n",
       "      <td>20583.15</td>\n",
       "      <td>20543.28</td>\n",
       "    </tr>\n",
       "    <tr>\n",
       "      <th>1</th>\n",
       "      <td>761</td>\n",
       "      <td>1</td>\n",
       "      <td>105503</td>\n",
       "      <td>Unknown</td>\n",
       "      <td>No</td>\n",
       "      <td>Nothern Provinces</td>\n",
       "      <td>105503.00</td>\n",
       "      <td>0.26</td>\n",
       "      <td>5275.15</td>\n",
       "      <td>1349.32</td>\n",
       "    </tr>\n",
       "    <tr>\n",
       "      <th>2</th>\n",
       "      <td>635</td>\n",
       "      <td>1</td>\n",
       "      <td>1098496</td>\n",
       "      <td>Unknown</td>\n",
       "      <td>No</td>\n",
       "      <td>Hanoi</td>\n",
       "      <td>1098496.00</td>\n",
       "      <td>2.66</td>\n",
       "      <td>54924.80</td>\n",
       "      <td>146279.35</td>\n",
       "    </tr>\n",
       "    <tr>\n",
       "      <th>3</th>\n",
       "      <td>568</td>\n",
       "      <td>1</td>\n",
       "      <td>286558</td>\n",
       "      <td>Unknown</td>\n",
       "      <td>No</td>\n",
       "      <td>Nothern Provinces</td>\n",
       "      <td>286558.00</td>\n",
       "      <td>0.69</td>\n",
       "      <td>14327.90</td>\n",
       "      <td>9954.31</td>\n",
       "    </tr>\n",
       "    <tr>\n",
       "      <th>4</th>\n",
       "      <td>798</td>\n",
       "      <td>1</td>\n",
       "      <td>287492</td>\n",
       "      <td>Unknown</td>\n",
       "      <td>No</td>\n",
       "      <td>Hanoi</td>\n",
       "      <td>287492.00</td>\n",
       "      <td>0.70</td>\n",
       "      <td>14374.60</td>\n",
       "      <td>10019.30</td>\n",
       "    </tr>\n",
       "    <tr>\n",
       "      <th>...</th>\n",
       "      <td>...</td>\n",
       "      <td>...</td>\n",
       "      <td>...</td>\n",
       "      <td>...</td>\n",
       "      <td>...</td>\n",
       "      <td>...</td>\n",
       "      <td>...</td>\n",
       "      <td>...</td>\n",
       "      <td>...</td>\n",
       "      <td>...</td>\n",
       "    </tr>\n",
       "    <tr>\n",
       "      <th>1048570</th>\n",
       "      <td>489</td>\n",
       "      <td>3</td>\n",
       "      <td>953618</td>\n",
       "      <td>Male</td>\n",
       "      <td>No</td>\n",
       "      <td>Southern Provinces</td>\n",
       "      <td>317872.67</td>\n",
       "      <td>2.31</td>\n",
       "      <td>47680.90</td>\n",
       "      <td>110238.92</td>\n",
       "    </tr>\n",
       "    <tr>\n",
       "      <th>1048571</th>\n",
       "      <td>489</td>\n",
       "      <td>3</td>\n",
       "      <td>953618</td>\n",
       "      <td>Male</td>\n",
       "      <td>No</td>\n",
       "      <td>Ho Chi Minh City</td>\n",
       "      <td>317872.67</td>\n",
       "      <td>2.31</td>\n",
       "      <td>47680.90</td>\n",
       "      <td>110238.92</td>\n",
       "    </tr>\n",
       "    <tr>\n",
       "      <th>1048572</th>\n",
       "      <td>489</td>\n",
       "      <td>3</td>\n",
       "      <td>953618</td>\n",
       "      <td>Male</td>\n",
       "      <td>No</td>\n",
       "      <td>Ho Chi Minh City</td>\n",
       "      <td>317872.67</td>\n",
       "      <td>2.31</td>\n",
       "      <td>47680.90</td>\n",
       "      <td>110238.92</td>\n",
       "    </tr>\n",
       "    <tr>\n",
       "      <th>1048573</th>\n",
       "      <td>483</td>\n",
       "      <td>1</td>\n",
       "      <td>262489</td>\n",
       "      <td>Unknown</td>\n",
       "      <td>No</td>\n",
       "      <td>Southern Provinces</td>\n",
       "      <td>262489.00</td>\n",
       "      <td>0.64</td>\n",
       "      <td>13124.45</td>\n",
       "      <td>8352.34</td>\n",
       "    </tr>\n",
       "    <tr>\n",
       "      <th>1048574</th>\n",
       "      <td>903</td>\n",
       "      <td>1</td>\n",
       "      <td>185271</td>\n",
       "      <td>Unknown</td>\n",
       "      <td>No</td>\n",
       "      <td>Southern Provinces</td>\n",
       "      <td>185271.00</td>\n",
       "      <td>0.45</td>\n",
       "      <td>9263.55</td>\n",
       "      <td>4161.03</td>\n",
       "    </tr>\n",
       "  </tbody>\n",
       "</table>\n",
       "<p>1048575 rows × 10 columns</p>\n",
       "</div>"
      ],
      "text/plain": [
       "         DateDiff  Frequency  SalesAmount_x CustomerGender VoucherStatus  \\\n",
       "0             834          1         411663        Unknown            No   \n",
       "1             761          1         105503        Unknown            No   \n",
       "2             635          1        1098496        Unknown            No   \n",
       "3             568          1         286558        Unknown            No   \n",
       "4             798          1         287492        Unknown            No   \n",
       "...           ...        ...            ...            ...           ...   \n",
       "1048570       489          3         953618           Male            No   \n",
       "1048571       489          3         953618           Male            No   \n",
       "1048572       489          3         953618           Male            No   \n",
       "1048573       483          1         262489        Unknown            No   \n",
       "1048574       903          1         185271        Unknown            No   \n",
       "\n",
       "                   Province  AVG_order_value  CLV  Profit Margin  \\\n",
       "0          Ho Chi Minh City        411663.00 1.00       20583.15   \n",
       "1         Nothern Provinces        105503.00 0.26        5275.15   \n",
       "2                     Hanoi       1098496.00 2.66       54924.80   \n",
       "3         Nothern Provinces        286558.00 0.69       14327.90   \n",
       "4                     Hanoi        287492.00 0.70       14374.60   \n",
       "...                     ...              ...  ...            ...   \n",
       "1048570  Southern Provinces        317872.67 2.31       47680.90   \n",
       "1048571    Ho Chi Minh City        317872.67 2.31       47680.90   \n",
       "1048572    Ho Chi Minh City        317872.67 2.31       47680.90   \n",
       "1048573  Southern Provinces        262489.00 0.64       13124.45   \n",
       "1048574  Southern Provinces        185271.00 0.45        9263.55   \n",
       "\n",
       "         Cust_lifetime_value  \n",
       "0                   20543.28  \n",
       "1                    1349.32  \n",
       "2                  146279.35  \n",
       "3                    9954.31  \n",
       "4                   10019.30  \n",
       "...                      ...  \n",
       "1048570            110238.92  \n",
       "1048571            110238.92  \n",
       "1048572            110238.92  \n",
       "1048573              8352.34  \n",
       "1048574              4161.03  \n",
       "\n",
       "[1048575 rows x 10 columns]"
      ]
     },
     "execution_count": 48,
     "metadata": {},
     "output_type": "execute_result"
    }
   ],
   "source": [
    "RFM_ml"
   ]
  },
  {
   "cell_type": "code",
   "execution_count": 49,
   "metadata": {},
   "outputs": [],
   "source": [
    "RFM_ml.to_csv('RFM_ml.csv')"
   ]
  },
  {
   "cell_type": "markdown",
   "metadata": {},
   "source": [
    "https://colab.research.google.com/drive/1my7G8yyOg_JFxfR4UzL7cI2uLlQmIjdk?authuser=3#scrollTo=XRg3jiWyVw-F"
   ]
  }
 ],
 "metadata": {
  "kernelspec": {
   "display_name": "Python 3",
   "language": "python",
   "name": "python3"
  },
  "language_info": {
   "codemirror_mode": {
    "name": "ipython",
    "version": 3
   },
   "file_extension": ".py",
   "mimetype": "text/x-python",
   "name": "python",
   "nbconvert_exporter": "python",
   "pygments_lexer": "ipython3",
   "version": "3.12.2"
  }
 },
 "nbformat": 4,
 "nbformat_minor": 2
}
